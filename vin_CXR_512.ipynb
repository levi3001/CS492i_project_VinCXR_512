{
  "nbformat": 4,
  "nbformat_minor": 0,
  "metadata": {
    "accelerator": "GPU",
    "colab": {
      "name": "vin_CXR_512.ipynb",
      "provenance": [],
      "collapsed_sections": [],
      "machine_shape": "hm",
      "include_colab_link": true
    },
    "kernelspec": {
      "display_name": "Python 3",
      "name": "python3"
    },
    "language_info": {
      "name": "python"
    }
  },
  "cells": [
    {
      "cell_type": "markdown",
      "metadata": {
        "id": "view-in-github",
        "colab_type": "text"
      },
      "source": [
        "<a href=\"https://colab.research.google.com/github/levi3001/CS492i_project_VinCXR_512/blob/master/vin_CXR_512.ipynb\" target=\"_parent\"><img src=\"https://colab.research.google.com/assets/colab-badge.svg\" alt=\"Open In Colab\"/></a>"
      ]
    },
    {
      "cell_type": "code",
      "metadata": {
        "colab": {
          "base_uri": "https://localhost:8080/"
        },
        "id": "_3UTgFLMykxI",
        "outputId": "8b624fe6-6cc7-4f28-9387-cd9248e30d5b"
      },
      "source": [
        "from google.colab import drive\n",
        "drive.mount('gdrive')"
      ],
      "execution_count": 1,
      "outputs": [
        {
          "output_type": "stream",
          "name": "stdout",
          "text": [
            "Mounted at gdrive\n"
          ]
        }
      ]
    },
    {
      "cell_type": "code",
      "metadata": {
        "id": "ASv50U6neOCC"
      },
      "source": [
        ""
      ],
      "execution_count": 1,
      "outputs": []
    },
    {
      "cell_type": "code",
      "metadata": {
        "id": "FZFJG39fy69G"
      },
      "source": [
        "!unzip -uq gdrive/MyDrive/cs492i_project/Vin_CXR_512.zip -d Vin_CXR_512/\n"
      ],
      "execution_count": 2,
      "outputs": []
    },
    {
      "cell_type": "code",
      "metadata": {
        "id": "aPTLJa64TTX-"
      },
      "source": [
        "#!pip install torch==1.4.0\n",
        "#!pip install torchvision==0.5.0"
      ],
      "execution_count": 3,
      "outputs": []
    },
    {
      "cell_type": "code",
      "metadata": {
        "id": "q_FAPdvrzDzt"
      },
      "source": [
        "import pandas as pd\n",
        "import numpy as np\n",
        "import torch\n",
        "from pathlib import Path \n",
        "import os\n",
        "import matplotlib.pyplot as plt\n",
        "import json \n",
        "import cv2 \n",
        "import torch.nn as nn"
      ],
      "execution_count": 4,
      "outputs": []
    },
    {
      "cell_type": "code",
      "metadata": {
        "id": "wOvTg1jvzc9S"
      },
      "source": [
        ""
      ],
      "execution_count": 4,
      "outputs": []
    },
    {
      "cell_type": "code",
      "metadata": {
        "id": "6uH6wQbVzHha"
      },
      "source": [
        ""
      ],
      "execution_count": 4,
      "outputs": []
    },
    {
      "cell_type": "code",
      "metadata": {
        "colab": {
          "base_uri": "https://localhost:8080/"
        },
        "id": "vF23jLc1zaq-",
        "outputId": "5c3b5ff6-b5bc-4c73-fd34-81962d46b57a"
      },
      "source": [
        "!git clone https://github.com/levi3001/Yet-Another-EfficientDet-Pytorch.git"
      ],
      "execution_count": 5,
      "outputs": [
        {
          "output_type": "stream",
          "name": "stdout",
          "text": [
            "Cloning into 'Yet-Another-EfficientDet-Pytorch'...\n",
            "remote: Enumerating objects: 858, done.\u001b[K\n",
            "remote: Counting objects: 100% (93/93), done.\u001b[K\n",
            "remote: Compressing objects: 100% (47/47), done.\u001b[K\n",
            "remote: Total 858 (delta 51), reused 85 (delta 46), pack-reused 765\u001b[K\n",
            "Receiving objects: 100% (858/858), 121.23 MiB | 13.64 MiB/s, done.\n",
            "Resolving deltas: 100% (488/488), done.\n"
          ]
        }
      ]
    },
    {
      "cell_type": "code",
      "metadata": {
        "id": "e8qhxtiD8Uvp"
      },
      "source": [
        "if not Path('Yet-Another-EfficientDet-Pytorch/datasets').exists():\n",
        "    os.mkdir('Yet-Another-EfficientDet-Pytorch/datasets')"
      ],
      "execution_count": 6,
      "outputs": []
    },
    {
      "cell_type": "code",
      "metadata": {
        "id": "76fIDdq2Rw-b"
      },
      "source": [
        ""
      ],
      "execution_count": 6,
      "outputs": []
    },
    {
      "cell_type": "code",
      "metadata": {
        "id": "fj6Pdq_k0mXo"
      },
      "source": [
        "!cp -r Vin_CXR_512/Vin_CXR_512/ Yet-Another-EfficientDet-Pytorch/datasets/Vin_CXR_512/"
      ],
      "execution_count": 7,
      "outputs": []
    },
    {
      "cell_type": "code",
      "metadata": {
        "colab": {
          "base_uri": "https://localhost:8080/"
        },
        "id": "UTPsxpjs2GsQ",
        "outputId": "7830420a-ede3-4cef-b1f2-cf7961385925"
      },
      "source": [
        "cd /content/Yet-Another-EfficientDet-Pytorch/"
      ],
      "execution_count": 8,
      "outputs": [
        {
          "output_type": "stream",
          "name": "stdout",
          "text": [
            "/content/Yet-Another-EfficientDet-Pytorch\n"
          ]
        }
      ]
    },
    {
      "cell_type": "code",
      "metadata": {
        "colab": {
          "base_uri": "https://localhost:8080/"
        },
        "id": "u8edLC4zS9V7",
        "outputId": "3fc894ee-7849-4efd-f5d8-ac1adf5ba2e3"
      },
      "source": [
        "ls"
      ],
      "execution_count": 9,
      "outputs": [
        {
          "output_type": "stream",
          "name": "stdout",
          "text": [
            "backbone.py                  \u001b[0m\u001b[01;34mprojects\u001b[0m/\n",
            "\u001b[01;34mbenchmark\u001b[0m/                   readme.md\n",
            "coco_eval.py                 \u001b[01;34mres\u001b[0m/\n",
            "\u001b[01;34mdatasets\u001b[0m/                    resnet50_best.pth\n",
            "\u001b[01;34mefficientdet\u001b[0m/                \u001b[01;34mtest\u001b[0m/\n",
            "efficientdet_test.py         train.py\n",
            "efficientdet_test_videos.py  \u001b[01;34mtutorial\u001b[0m/\n",
            "\u001b[01;34mefficientnet\u001b[0m/                \u001b[01;34mutils\u001b[0m/\n",
            "efficientnet_b0_best.pth     vin_CXR_512_classifier.ipynb\n",
            "LICENSE                      vin_CXR_512.ipynb\n"
          ]
        }
      ]
    },
    {
      "cell_type": "code",
      "metadata": {
        "id": "cmRSs9KZ3CoL"
      },
      "source": [
        "\n"
      ],
      "execution_count": 9,
      "outputs": []
    },
    {
      "cell_type": "code",
      "metadata": {
        "id": "8lNeTTZgLnKQ"
      },
      "source": [
        ""
      ],
      "execution_count": 9,
      "outputs": []
    },
    {
      "cell_type": "code",
      "metadata": {
        "id": "BQSzifiA1Nuk"
      },
      "source": [
        "! mkdir weights\n",
        "#! wget https://github.com/zylo117/Yet-Another-EfficientDet-Pytorch/releases/download/1.0/efficientdet-d0.pth -O weights/efficientdet-d0.pth"
      ],
      "execution_count": 10,
      "outputs": []
    },
    {
      "cell_type": "code",
      "metadata": {
        "colab": {
          "base_uri": "https://localhost:8080/",
          "height": 1000
        },
        "id": "ThrCOV_03Svf",
        "outputId": "6825193e-b556-456c-c7b4-cfbf527242eb"
      },
      "source": [
        "! pip install tensorboardX tensorboard pyyaml webcolors \n",
        "!pip install -U git+https://github.com/albumentations-team/albumentations"
      ],
      "execution_count": 11,
      "outputs": [
        {
          "output_type": "stream",
          "name": "stdout",
          "text": [
            "Collecting tensorboardX\n",
            "  Downloading tensorboardX-2.4.1-py2.py3-none-any.whl (124 kB)\n",
            "\u001b[?25l\r\u001b[K     |██▋                             | 10 kB 17.9 MB/s eta 0:00:01\r\u001b[K     |█████▎                          | 20 kB 23.6 MB/s eta 0:00:01\r\u001b[K     |███████▉                        | 30 kB 13.6 MB/s eta 0:00:01\r\u001b[K     |██████████▌                     | 40 kB 10.3 MB/s eta 0:00:01\r\u001b[K     |█████████████▏                  | 51 kB 4.5 MB/s eta 0:00:01\r\u001b[K     |███████████████▊                | 61 kB 4.7 MB/s eta 0:00:01\r\u001b[K     |██████████████████▍             | 71 kB 4.6 MB/s eta 0:00:01\r\u001b[K     |█████████████████████           | 81 kB 5.1 MB/s eta 0:00:01\r\u001b[K     |███████████████████████▋        | 92 kB 5.0 MB/s eta 0:00:01\r\u001b[K     |██████████████████████████▎     | 102 kB 4.3 MB/s eta 0:00:01\r\u001b[K     |█████████████████████████████   | 112 kB 4.3 MB/s eta 0:00:01\r\u001b[K     |███████████████████████████████▌| 122 kB 4.3 MB/s eta 0:00:01\r\u001b[K     |████████████████████████████████| 124 kB 4.3 MB/s \n",
            "\u001b[?25hRequirement already satisfied: tensorboard in /usr/local/lib/python3.7/dist-packages (2.7.0)\n",
            "Requirement already satisfied: pyyaml in /usr/local/lib/python3.7/dist-packages (3.13)\n",
            "Collecting webcolors\n",
            "  Downloading webcolors-1.11.1-py3-none-any.whl (9.9 kB)\n",
            "Requirement already satisfied: numpy in /usr/local/lib/python3.7/dist-packages (from tensorboardX) (1.19.5)\n",
            "Requirement already satisfied: protobuf>=3.8.0 in /usr/local/lib/python3.7/dist-packages (from tensorboardX) (3.17.3)\n",
            "Requirement already satisfied: six>=1.9 in /usr/local/lib/python3.7/dist-packages (from protobuf>=3.8.0->tensorboardX) (1.15.0)\n",
            "Requirement already satisfied: werkzeug>=0.11.15 in /usr/local/lib/python3.7/dist-packages (from tensorboard) (1.0.1)\n",
            "Requirement already satisfied: requests<3,>=2.21.0 in /usr/local/lib/python3.7/dist-packages (from tensorboard) (2.23.0)\n",
            "Requirement already satisfied: google-auth-oauthlib<0.5,>=0.4.1 in /usr/local/lib/python3.7/dist-packages (from tensorboard) (0.4.6)\n",
            "Requirement already satisfied: wheel>=0.26 in /usr/local/lib/python3.7/dist-packages (from tensorboard) (0.37.0)\n",
            "Requirement already satisfied: google-auth<3,>=1.6.3 in /usr/local/lib/python3.7/dist-packages (from tensorboard) (1.35.0)\n",
            "Requirement already satisfied: setuptools>=41.0.0 in /usr/local/lib/python3.7/dist-packages (from tensorboard) (57.4.0)\n",
            "Requirement already satisfied: tensorboard-plugin-wit>=1.6.0 in /usr/local/lib/python3.7/dist-packages (from tensorboard) (1.8.0)\n",
            "Requirement already satisfied: absl-py>=0.4 in /usr/local/lib/python3.7/dist-packages (from tensorboard) (0.12.0)\n",
            "Requirement already satisfied: grpcio>=1.24.3 in /usr/local/lib/python3.7/dist-packages (from tensorboard) (1.42.0)\n",
            "Requirement already satisfied: tensorboard-data-server<0.7.0,>=0.6.0 in /usr/local/lib/python3.7/dist-packages (from tensorboard) (0.6.1)\n",
            "Requirement already satisfied: markdown>=2.6.8 in /usr/local/lib/python3.7/dist-packages (from tensorboard) (3.3.6)\n",
            "Requirement already satisfied: rsa<5,>=3.1.4 in /usr/local/lib/python3.7/dist-packages (from google-auth<3,>=1.6.3->tensorboard) (4.8)\n",
            "Requirement already satisfied: cachetools<5.0,>=2.0.0 in /usr/local/lib/python3.7/dist-packages (from google-auth<3,>=1.6.3->tensorboard) (4.2.4)\n",
            "Requirement already satisfied: pyasn1-modules>=0.2.1 in /usr/local/lib/python3.7/dist-packages (from google-auth<3,>=1.6.3->tensorboard) (0.2.8)\n",
            "Requirement already satisfied: requests-oauthlib>=0.7.0 in /usr/local/lib/python3.7/dist-packages (from google-auth-oauthlib<0.5,>=0.4.1->tensorboard) (1.3.0)\n",
            "Requirement already satisfied: importlib-metadata>=4.4 in /usr/local/lib/python3.7/dist-packages (from markdown>=2.6.8->tensorboard) (4.8.2)\n",
            "Requirement already satisfied: typing-extensions>=3.6.4 in /usr/local/lib/python3.7/dist-packages (from importlib-metadata>=4.4->markdown>=2.6.8->tensorboard) (3.10.0.2)\n",
            "Requirement already satisfied: zipp>=0.5 in /usr/local/lib/python3.7/dist-packages (from importlib-metadata>=4.4->markdown>=2.6.8->tensorboard) (3.6.0)\n",
            "Requirement already satisfied: pyasn1<0.5.0,>=0.4.6 in /usr/local/lib/python3.7/dist-packages (from pyasn1-modules>=0.2.1->google-auth<3,>=1.6.3->tensorboard) (0.4.8)\n",
            "Requirement already satisfied: chardet<4,>=3.0.2 in /usr/local/lib/python3.7/dist-packages (from requests<3,>=2.21.0->tensorboard) (3.0.4)\n",
            "Requirement already satisfied: certifi>=2017.4.17 in /usr/local/lib/python3.7/dist-packages (from requests<3,>=2.21.0->tensorboard) (2021.10.8)\n",
            "Requirement already satisfied: urllib3!=1.25.0,!=1.25.1,<1.26,>=1.21.1 in /usr/local/lib/python3.7/dist-packages (from requests<3,>=2.21.0->tensorboard) (1.24.3)\n",
            "Requirement already satisfied: idna<3,>=2.5 in /usr/local/lib/python3.7/dist-packages (from requests<3,>=2.21.0->tensorboard) (2.10)\n",
            "Requirement already satisfied: oauthlib>=3.0.0 in /usr/local/lib/python3.7/dist-packages (from requests-oauthlib>=0.7.0->google-auth-oauthlib<0.5,>=0.4.1->tensorboard) (3.1.1)\n",
            "Installing collected packages: webcolors, tensorboardX\n",
            "Successfully installed tensorboardX-2.4.1 webcolors-1.11.1\n",
            "Collecting git+https://github.com/albumentations-team/albumentations\n",
            "  Cloning https://github.com/albumentations-team/albumentations to /tmp/pip-req-build-wdmxj106\n",
            "  Running command git clone -q https://github.com/albumentations-team/albumentations /tmp/pip-req-build-wdmxj106\n",
            "Requirement already satisfied: numpy>=1.11.1 in /usr/local/lib/python3.7/dist-packages (from albumentations==1.1.0) (1.19.5)\n",
            "Requirement already satisfied: scipy in /usr/local/lib/python3.7/dist-packages (from albumentations==1.1.0) (1.4.1)\n",
            "Requirement already satisfied: scikit-image<0.19,>=0.16.1 in /usr/local/lib/python3.7/dist-packages (from albumentations==1.1.0) (0.18.3)\n",
            "Requirement already satisfied: PyYAML in /usr/local/lib/python3.7/dist-packages (from albumentations==1.1.0) (3.13)\n",
            "Collecting qudida>=0.0.4\n",
            "  Downloading qudida-0.0.4-py3-none-any.whl (3.5 kB)\n",
            "Requirement already satisfied: opencv-python>=4.1.1 in /usr/local/lib/python3.7/dist-packages (from albumentations==1.1.0) (4.1.2.30)\n",
            "Collecting opencv-python-headless>=4.0.1\n",
            "  Downloading opencv_python_headless-4.5.4.60-cp37-cp37m-manylinux_2_17_x86_64.manylinux2014_x86_64.whl (47.6 MB)\n",
            "\u001b[K     |████████████████████████████████| 47.6 MB 62.8 MB/s \n",
            "\u001b[?25hRequirement already satisfied: scikit-learn>=0.19.1 in /usr/local/lib/python3.7/dist-packages (from qudida>=0.0.4->albumentations==1.1.0) (1.0.1)\n",
            "Requirement already satisfied: typing-extensions in /usr/local/lib/python3.7/dist-packages (from qudida>=0.0.4->albumentations==1.1.0) (3.10.0.2)\n",
            "Requirement already satisfied: imageio>=2.3.0 in /usr/local/lib/python3.7/dist-packages (from scikit-image<0.19,>=0.16.1->albumentations==1.1.0) (2.4.1)\n",
            "Requirement already satisfied: PyWavelets>=1.1.1 in /usr/local/lib/python3.7/dist-packages (from scikit-image<0.19,>=0.16.1->albumentations==1.1.0) (1.2.0)\n",
            "Requirement already satisfied: networkx>=2.0 in /usr/local/lib/python3.7/dist-packages (from scikit-image<0.19,>=0.16.1->albumentations==1.1.0) (2.6.3)\n",
            "Requirement already satisfied: tifffile>=2019.7.26 in /usr/local/lib/python3.7/dist-packages (from scikit-image<0.19,>=0.16.1->albumentations==1.1.0) (2021.11.2)\n",
            "Requirement already satisfied: matplotlib!=3.0.0,>=2.0.0 in /usr/local/lib/python3.7/dist-packages (from scikit-image<0.19,>=0.16.1->albumentations==1.1.0) (3.2.2)\n",
            "Requirement already satisfied: pillow!=7.1.0,!=7.1.1,>=4.3.0 in /usr/local/lib/python3.7/dist-packages (from scikit-image<0.19,>=0.16.1->albumentations==1.1.0) (7.1.2)\n",
            "Requirement already satisfied: pyparsing!=2.0.4,!=2.1.2,!=2.1.6,>=2.0.1 in /usr/local/lib/python3.7/dist-packages (from matplotlib!=3.0.0,>=2.0.0->scikit-image<0.19,>=0.16.1->albumentations==1.1.0) (3.0.6)\n",
            "Requirement already satisfied: python-dateutil>=2.1 in /usr/local/lib/python3.7/dist-packages (from matplotlib!=3.0.0,>=2.0.0->scikit-image<0.19,>=0.16.1->albumentations==1.1.0) (2.8.2)\n",
            "Requirement already satisfied: kiwisolver>=1.0.1 in /usr/local/lib/python3.7/dist-packages (from matplotlib!=3.0.0,>=2.0.0->scikit-image<0.19,>=0.16.1->albumentations==1.1.0) (1.3.2)\n",
            "Requirement already satisfied: cycler>=0.10 in /usr/local/lib/python3.7/dist-packages (from matplotlib!=3.0.0,>=2.0.0->scikit-image<0.19,>=0.16.1->albumentations==1.1.0) (0.11.0)\n",
            "Requirement already satisfied: six>=1.5 in /usr/local/lib/python3.7/dist-packages (from python-dateutil>=2.1->matplotlib!=3.0.0,>=2.0.0->scikit-image<0.19,>=0.16.1->albumentations==1.1.0) (1.15.0)\n",
            "Requirement already satisfied: joblib>=0.11 in /usr/local/lib/python3.7/dist-packages (from scikit-learn>=0.19.1->qudida>=0.0.4->albumentations==1.1.0) (1.1.0)\n",
            "Requirement already satisfied: threadpoolctl>=2.0.0 in /usr/local/lib/python3.7/dist-packages (from scikit-learn>=0.19.1->qudida>=0.0.4->albumentations==1.1.0) (3.0.0)\n",
            "Building wheels for collected packages: albumentations\n",
            "  Building wheel for albumentations (setup.py) ... \u001b[?25l\u001b[?25hdone\n",
            "  Created wheel for albumentations: filename=albumentations-1.1.0-py3-none-any.whl size=105152 sha256=04bcf896a2732124041943ffad6b6d819ee79b1ac608a4f61339ad948687dde5\n",
            "  Stored in directory: /tmp/pip-ephem-wheel-cache-gzyyjkl6/wheels/3a/25/ed/ec3b518e7a332d7f0a3bb37c280e1b784cf2f79b94b3c7d00b\n",
            "Successfully built albumentations\n",
            "Installing collected packages: opencv-python-headless, qudida, albumentations\n",
            "  Attempting uninstall: albumentations\n",
            "    Found existing installation: albumentations 0.1.12\n",
            "    Uninstalling albumentations-0.1.12:\n",
            "      Successfully uninstalled albumentations-0.1.12\n",
            "Successfully installed albumentations-1.1.0 opencv-python-headless-4.5.4.60 qudida-0.0.4\n"
          ]
        },
        {
          "output_type": "display_data",
          "data": {
            "application/vnd.colab-display-data+json": {
              "pip_warning": {
                "packages": [
                  "cv2"
                ]
              }
            }
          },
          "metadata": {}
        }
      ]
    },
    {
      "cell_type": "code",
      "metadata": {
        "id": "wgV-LmncTNqF"
      },
      "source": [
        ""
      ],
      "execution_count": 11,
      "outputs": []
    },
    {
      "cell_type": "code",
      "metadata": {
        "id": "do6kh-WW4uRp"
      },
      "source": [
        "import yaml\n",
        "config={\n",
        "        'project_name': 'Vin_CXR_512' , \n",
        "        'train_set': 'train',\n",
        "        'val_set': 'val',\n",
        "        'num_gpus': 1,\n",
        "        'num_workers': 1,\n",
        "        'mean': [ 0.485, 0.456, 0.406 ],\n",
        "        'std': [ 0.229, 0.224, 0.225 ],\n",
        "\n",
        "        'anchors_scales': '[2 ** 0, 2 ** (1.0 / 3.0), 2 ** (2.0 / 3.0)]',\n",
        "        'anchors_ratios': '[(1.0, 1.0), (1.3, 0.8), (1.9, 0.5)]',\n",
        "\n",
        "        'obj_list': [\"Aortic_enlargement\",\n",
        "            \"Atelectasis\",\n",
        "            \"Calcification\",\n",
        "            \"Cardiomegaly\",\n",
        "            \"Consolidation\",\n",
        "            \"ILD\",\n",
        "            \"Infiltration\",\n",
        "            \"Lung_Opacity\",\n",
        "            \"Nodule/Mass\",\n",
        "            \"Other_lesion\",\n",
        "            \"Pleural_effusion\",\n",
        "            \"Pleural_thickening\",\n",
        "            \"Pneumothorax\",\n",
        "            \"Pulmonary_fibrosis\"]\n",
        "    }\n",
        "file = open(\"projects/Vin_CXR_512.yml\", \"w\")\n",
        "yaml.dump(config, file)\n",
        "file.close()"
      ],
      "execution_count": 12,
      "outputs": []
    },
    {
      "cell_type": "code",
      "metadata": {
        "id": "d9rSil3TZQdR"
      },
      "source": [
        ""
      ],
      "execution_count": 12,
      "outputs": []
    },
    {
      "cell_type": "code",
      "metadata": {
        "colab": {
          "base_uri": "https://localhost:8080/"
        },
        "id": "JNPVDS_V2LoR",
        "outputId": "58dff602-0154-4e47-ae2a-7de668596db4"
      },
      "source": [
        "!python train.py -c 0 -cb 0 -p Vin_CXR_512 --batch_size 16 --lr 1e-3 --num_epochs 10 --custom_backbone /content/gdrive/MyDrive/cs492i_project/efficientnet_b0_best.pth \\\n",
        "--head_only True"
      ],
      "execution_count": 13,
      "outputs": [
        {
          "output_type": "stream",
          "name": "stdout",
          "text": [
            "/usr/local/lib/python3.7/dist-packages/albumentations/augmentations/transforms.py:720: FutureWarning: This class has been deprecated. Please use CoarseDropout\n",
            "  FutureWarning,\n",
            "loading annotations into memory...\n",
            "Done (t=0.07s)\n",
            "creating index...\n",
            "index created!\n",
            "/usr/local/lib/python3.7/dist-packages/torch/utils/data/dataloader.py:481: UserWarning: This DataLoader will create 12 worker processes in total. Our suggested max number of worker in current system is 4, which is smaller than what this DataLoader is going to create. Please be aware that excessive worker creation might get DataLoader running slow or even freeze, lower the worker number to avoid potential slowness/freeze if necessary.\n",
            "  cpuset_checked))\n",
            "loading annotations into memory...\n",
            "Done (t=0.02s)\n",
            "creating index...\n",
            "index created!\n",
            "[Info] initializing weights...\n",
            "[Info] freezed backbone\n",
            "Step: 218. lr0.001 Epoch: 0/10. Iteration: 219/219. Cls loss: 1.12841. Reg loss: 5.49986. Total loss: 6.62826: 100% 219/219 [03:11<00:00,  1.15it/s]\n",
            "Val. Epoch: 0/10. Classification loss: 1.08032. Regression loss: 5.33693. Total loss: 6.41725\n",
            "Step: 437. lr0.0009998766400914328 Epoch: 1/10. Iteration: 219/219. Cls loss: 1.02663. Reg loss: 5.70831. Total loss: 6.73494: 100% 219/219 [03:10<00:00,  1.15it/s]\n",
            "Val. Epoch: 1/10. Classification loss: 0.99542. Regression loss: 5.18487. Total loss: 6.18029\n",
            "Step: 499. lr0.0009995066821070677 Epoch: 2/10. Iteration: 62/219. Cls loss: 0.91349. Reg loss: 4.86714. Total loss: 5.78064:  28% 61/219 [00:56<02:15,  1.17it/s]checkpoint...\n",
            "Step: 656. lr0.0009995066821070677 Epoch: 2/10. Iteration: 219/219. Cls loss: 1.05075. Reg loss: 5.15864. Total loss: 6.20940: 100% 219/219 [03:10<00:00,  1.15it/s]\n",
            "Val. Epoch: 2/10. Classification loss: 0.96727. Regression loss: 5.16447. Total loss: 6.13174\n",
            "Step: 875. lr0.00099889049115077 Epoch: 3/10. Iteration: 219/219. Cls loss: 1.01378. Reg loss: 5.40940. Total loss: 6.42318: 100% 219/219 [03:09<00:00,  1.15it/s]\n",
            "Val. Epoch: 3/10. Classification loss: 0.95936. Regression loss: 5.07011. Total loss: 6.02947\n",
            "Step: 999. lr0.0009980286753286194 Epoch: 4/10. Iteration: 124/219. Cls loss: 0.93455. Reg loss: 4.74830. Total loss: 5.68285:  56% 123/219 [01:48<01:21,  1.17it/s]checkpoint...\n",
            "Step: 1094. lr0.0009980286753286194 Epoch: 4/10. Iteration: 219/219. Cls loss: 0.96113. Reg loss: 4.56010. Total loss: 5.52123: 100% 219/219 [03:09<00:00,  1.15it/s]\n",
            "Val. Epoch: 4/10. Classification loss: 0.95041. Regression loss: 5.16085. Total loss: 6.11126\n",
            "Step: 1313. lr0.0009969220851487842 Epoch: 5/10. Iteration: 219/219. Cls loss: 0.90027. Reg loss: 5.48009. Total loss: 6.38036: 100% 219/219 [03:09<00:00,  1.15it/s]\n",
            "Val. Epoch: 5/10. Classification loss: 0.94401. Regression loss: 4.98797. Total loss: 5.93198\n",
            "Step: 1499. lr0.000995571812682172 Epoch: 6/10. Iteration: 186/219. Cls loss: 0.93734. Reg loss: 4.82103. Total loss: 5.75837:  84% 185/219 [02:41<00:28,  1.17it/s]checkpoint...\n",
            "Step: 1532. lr0.000995571812682172 Epoch: 6/10. Iteration: 219/219. Cls loss: 0.87009. Reg loss: 4.72999. Total loss: 5.60007: 100% 219/219 [03:09<00:00,  1.15it/s]\n",
            "Val. Epoch: 6/10. Classification loss: 0.93846. Regression loss: 4.92080. Total loss: 5.85926\n",
            "Step: 1751. lr0.0009939791904846865 Epoch: 7/10. Iteration: 219/219. Cls loss: 0.95427. Reg loss: 5.33407. Total loss: 6.28835: 100% 219/219 [03:10<00:00,  1.15it/s]\n",
            "Val. Epoch: 7/10. Classification loss: 0.93361. Regression loss: 4.90845. Total loss: 5.84206\n",
            "Step: 1970. lr0.0009921457902821573 Epoch: 8/10. Iteration: 219/219. Cls loss: 0.98524. Reg loss: 5.27672. Total loss: 6.26197: 100% 219/219 [03:09<00:00,  1.15it/s]\n",
            "Val. Epoch: 8/10. Classification loss: 0.92964. Regression loss: 4.84546. Total loss: 5.77509\n",
            "Step: 1999. lr0.0009900734214192352 Epoch: 9/10. Iteration: 29/219. Cls loss: 0.95449. Reg loss: 4.81520. Total loss: 5.76969:  13% 28/219 [00:28<02:42,  1.18it/s]checkpoint...\n",
            "Step: 2189. lr0.0009900734214192352 Epoch: 9/10. Iteration: 219/219. Cls loss: 0.96549. Reg loss: 5.64865. Total loss: 6.61414: 100% 219/219 [03:09<00:00,  1.15it/s]\n",
            "Val. Epoch: 9/10. Classification loss: 0.92108. Regression loss: 4.78763. Total loss: 5.70871\n"
          ]
        }
      ]
    },
    {
      "cell_type": "code",
      "metadata": {
        "colab": {
          "base_uri": "https://localhost:8080/"
        },
        "id": "px2Zjwgy_KEP",
        "outputId": "14093720-0b00-4655-fadd-0aef93ef358f"
      },
      "source": [
        "%cd /content/Yet-Another-EfficientDet-Pytorch/\n",
        "#get latest weight file\n",
        "%cd logs/Vin_CXR_512\n",
        "weight_file = !ls -Art | grep efficientdet\n",
        "%cd ../..\n",
        "\n",
        "#uncomment the next line to specify a weight file\n",
        "#weight_file[-1] = 'efficientdet-d0_49_1400.pth'\n",
        "\n",
        "! python coco_eval.py -c 0 -cb 0 -p Vin_CXR_512 -w /content/Yet-Another-EfficientDet-Pytorch/logs/Vin_CXR_512/efficientdet-d0_123_26996.pth"
      ],
      "execution_count": 21,
      "outputs": [
        {
          "output_type": "stream",
          "name": "stdout",
          "text": [
            "/content/Yet-Another-EfficientDet-Pytorch\n",
            "/content/Yet-Another-EfficientDet-Pytorch/logs/Vin_CXR_512\n",
            "/content/Yet-Another-EfficientDet-Pytorch\n",
            "running coco-style evaluation on project Vin_CXR_512, weights /content/Yet-Another-EfficientDet-Pytorch/logs/Vin_CXR_512/efficientdet-d0_123_26996.pth...\n",
            "loading annotations into memory...\n",
            "Done (t=0.02s)\n",
            "creating index...\n",
            "index created!\n",
            "100% 879/879 [01:08<00:00, 12.86it/s]\n",
            "Loading and preparing results...\n",
            "DONE (t=0.30s)\n",
            "creating index...\n",
            "index created!\n",
            "BBox\n",
            "Running per image evaluation...\n",
            "Evaluate annotation type *bbox*\n",
            "DONE (t=4.09s).\n",
            "Accumulating evaluation results...\n",
            "DONE (t=0.89s).\n",
            " Average Precision  (AP) @[ IoU=0.50:0.95 | area=   all | maxDets=100 ] = 0.071\n",
            " Average Precision  (AP) @[ IoU=0.50      | area=   all | maxDets=100 ] = 0.163\n",
            " Average Precision  (AP) @[ IoU=0.75      | area=   all | maxDets=100 ] = 0.054\n",
            " Average Precision  (AP) @[ IoU=0.50:0.95 | area= small | maxDets=100 ] = 0.007\n",
            " Average Precision  (AP) @[ IoU=0.50:0.95 | area=medium | maxDets=100 ] = 0.061\n",
            " Average Precision  (AP) @[ IoU=0.50:0.95 | area= large | maxDets=100 ] = 0.107\n",
            " Average Recall     (AR) @[ IoU=0.50:0.95 | area=   all | maxDets=  1 ] = 0.100\n",
            " Average Recall     (AR) @[ IoU=0.50:0.95 | area=   all | maxDets= 10 ] = 0.152\n",
            " Average Recall     (AR) @[ IoU=0.50:0.95 | area=   all | maxDets=100 ] = 0.159\n",
            " Average Recall     (AR) @[ IoU=0.50:0.95 | area= small | maxDets=100 ] = 0.033\n",
            " Average Recall     (AR) @[ IoU=0.50:0.95 | area=medium | maxDets=100 ] = 0.141\n",
            " Average Recall     (AR) @[ IoU=0.50:0.95 | area= large | maxDets=100 ] = 0.209\n"
          ]
        }
      ]
    },
    {
      "cell_type": "code",
      "metadata": {
        "colab": {
          "base_uri": "https://localhost:8080/"
        },
        "id": "2y4y5Q6hSQfe",
        "outputId": "38414aec-6089-43a1-c51e-2bab5fa17ffd"
      },
      "source": [
        "!python train.py -c 0 -cb 0 -p Vin_CXR_512 --batch_size 16 --lr 1e-3 --num_epochs 100\\\n",
        " --load_weights  /content/Yet-Another-EfficientDet-Pytorch/logs/Vin_CXR_512/efficientdet-d0_9_2190.pth"
      ],
      "execution_count": 14,
      "outputs": [
        {
          "output_type": "stream",
          "name": "stdout",
          "text": [
            "/usr/local/lib/python3.7/dist-packages/albumentations/augmentations/transforms.py:720: FutureWarning: This class has been deprecated. Please use CoarseDropout\n",
            "  FutureWarning,\n",
            "loading annotations into memory...\n",
            "Done (t=0.07s)\n",
            "creating index...\n",
            "index created!\n",
            "/usr/local/lib/python3.7/dist-packages/torch/utils/data/dataloader.py:481: UserWarning: This DataLoader will create 12 worker processes in total. Our suggested max number of worker in current system is 4, which is smaller than what this DataLoader is going to create. Please be aware that excessive worker creation might get DataLoader running slow or even freeze, lower the worker number to avoid potential slowness/freeze if necessary.\n",
            "  cpuset_checked))\n",
            "loading annotations into memory...\n",
            "Done (t=0.02s)\n",
            "creating index...\n",
            "index created!\n",
            "[Info] loaded weights: efficientdet-d0_9_2190.pth, resuming checkpoint from step: 2190\n",
            "Step: 2408. lr0.001 Epoch: 10/100. Iteration: 219/219. Cls loss: 0.86548. Reg loss: 3.79984. Total loss: 4.66531: 100% 219/219 [07:58<00:00,  2.18s/it]\n",
            "Val. Epoch: 10/100. Classification loss: 1.15799. Regression loss: 4.36186. Total loss: 5.51985\n",
            "Step: 2499. lr0.0009998766400914328 Epoch: 11/100. Iteration: 91/219. Cls loss: 0.74624. Reg loss: 4.54053. Total loss: 5.28677:  41% 90/219 [03:20<04:38,  2.16s/it]checkpoint...\n",
            "Step: 2627. lr0.0009998766400914328 Epoch: 11/100. Iteration: 219/219. Cls loss: 0.67366. Reg loss: 4.04778. Total loss: 4.72144: 100% 219/219 [07:57<00:00,  2.18s/it]\n",
            "Val. Epoch: 11/100. Classification loss: 884.24893. Regression loss: 6.36393. Total loss: 890.61286\n",
            "Step: 2846. lr0.0009995066821070677 Epoch: 12/100. Iteration: 219/219. Cls loss: 0.71136. Reg loss: 4.25874. Total loss: 4.97010: 100% 219/219 [07:57<00:00,  2.18s/it]\n",
            "Val. Epoch: 12/100. Classification loss: 41.13831. Regression loss: 4.39627. Total loss: 45.53458\n",
            "Step: 2999. lr0.00099889049115077 Epoch: 13/100. Iteration: 153/219. Cls loss: 0.59802. Reg loss: 3.70183. Total loss: 4.29985:  69% 152/219 [05:34<02:25,  2.17s/it]checkpoint...\n",
            "Step: 3065. lr0.00099889049115077 Epoch: 13/100. Iteration: 219/219. Cls loss: 0.52147. Reg loss: 3.43273. Total loss: 3.95420: 100% 219/219 [07:57<00:00,  2.18s/it]\n",
            "Val. Epoch: 13/100. Classification loss: 12.62676. Regression loss: 3.85040. Total loss: 16.47716\n",
            "Step: 3284. lr0.0009980286753286194 Epoch: 14/100. Iteration: 219/219. Cls loss: 0.84038. Reg loss: 3.27048. Total loss: 4.11087: 100% 219/219 [07:57<00:00,  2.18s/it]\n",
            "Val. Epoch: 14/100. Classification loss: 0.63480. Regression loss: 3.28219. Total loss: 3.91699\n",
            "Step: 3499. lr0.0009969220851487842 Epoch: 15/100. Iteration: 215/219. Cls loss: 0.63754. Reg loss: 3.25370. Total loss: 3.89123:  98% 214/219 [07:49<00:10,  2.16s/it]checkpoint...\n",
            "Step: 3503. lr0.0009969220851487842 Epoch: 15/100. Iteration: 219/219. Cls loss: 0.82987. Reg loss: 3.82180. Total loss: 4.65167: 100% 219/219 [07:58<00:00,  2.18s/it]\n",
            "Val. Epoch: 15/100. Classification loss: 21.54162. Regression loss: 3.55740. Total loss: 25.09902\n",
            "Step: 3722. lr0.000995571812682172 Epoch: 16/100. Iteration: 219/219. Cls loss: 0.63383. Reg loss: 3.29912. Total loss: 3.93295: 100% 219/219 [07:58<00:00,  2.18s/it]\n",
            "Val. Epoch: 16/100. Classification loss: 3.60198. Regression loss: 3.53842. Total loss: 7.14040\n",
            "Step: 3941. lr0.0009939791904846865 Epoch: 17/100. Iteration: 219/219. Cls loss: 0.62188. Reg loss: 2.86223. Total loss: 3.48412: 100% 219/219 [07:57<00:00,  2.18s/it]\n",
            "Val. Epoch: 17/100. Classification loss: 1.37116. Regression loss: 3.46205. Total loss: 4.83322\n",
            "Step: 3999. lr0.0009921457902821573 Epoch: 18/100. Iteration: 58/219. Cls loss: 0.79747. Reg loss: 4.06884. Total loss: 4.86631:  26% 57/219 [02:08<05:50,  2.17s/it]checkpoint...\n",
            "Step: 4160. lr0.0009921457902821573 Epoch: 18/100. Iteration: 219/219. Cls loss: 0.52247. Reg loss: 2.24647. Total loss: 2.76895: 100% 219/219 [07:57<00:00,  2.18s/it]\n",
            "Val. Epoch: 18/100. Classification loss: 0.60758. Regression loss: 3.10014. Total loss: 3.70772\n",
            "Step: 4379. lr0.0009900734214192352 Epoch: 19/100. Iteration: 219/219. Cls loss: 0.47915. Reg loss: 1.74504. Total loss: 2.22419: 100% 219/219 [07:57<00:00,  2.18s/it]\n",
            "Val. Epoch: 19/100. Classification loss: 0.57618. Regression loss: 3.12462. Total loss: 3.70081\n",
            "Step: 4499. lr0.0009877641290737878 Epoch: 20/100. Iteration: 120/219. Cls loss: 0.61059. Reg loss: 1.77203. Total loss: 2.38262:  54% 119/219 [04:22<03:36,  2.16s/it]checkpoint...\n",
            "Step: 4598. lr0.0009877641290737878 Epoch: 20/100. Iteration: 219/219. Cls loss: 0.63362. Reg loss: 2.98784. Total loss: 3.62146: 100% 219/219 [07:57<00:00,  2.18s/it]\n",
            "Val. Epoch: 20/100. Classification loss: 2.10069. Regression loss: 3.06670. Total loss: 5.16740\n",
            "Step: 4817. lr0.0009852201922385558 Epoch: 21/100. Iteration: 219/219. Cls loss: 0.44353. Reg loss: 3.09773. Total loss: 3.54126: 100% 219/219 [07:57<00:00,  2.18s/it]\n",
            "Val. Epoch: 21/100. Classification loss: 2.32723. Regression loss: 3.09472. Total loss: 5.42194\n",
            "Step: 4999. lr0.0009824441214720623 Epoch: 22/100. Iteration: 182/219. Cls loss: 0.54219. Reg loss: 2.74398. Total loss: 3.28617:  83% 181/219 [06:37<01:22,  2.16s/it]checkpoint...\n",
            "Step: 5036. lr0.0009824441214720623 Epoch: 22/100. Iteration: 219/219. Cls loss: 0.62094. Reg loss: 3.02597. Total loss: 3.64691: 100% 219/219 [07:57<00:00,  2.18s/it]\n",
            "Val. Epoch: 22/100. Classification loss: 129.40873. Regression loss: 3.64907. Total loss: 133.05779\n",
            "Step: 5255. lr0.0009794386564209948 Epoch: 23/100. Iteration: 219/219. Cls loss: 0.54102. Reg loss: 3.04366. Total loss: 3.58468: 100% 219/219 [07:57<00:00,  2.18s/it]\n",
            "Val. Epoch: 23/100. Classification loss: 5.20934. Regression loss: 3.07535. Total loss: 8.28469\n",
            "Step: 5474. lr0.0009762067631165045 Epoch: 24/100. Iteration: 219/219. Cls loss: 0.43128. Reg loss: 2.65113. Total loss: 3.08241: 100% 219/219 [07:57<00:00,  2.18s/it]\n",
            "Val. Epoch: 24/100. Classification loss: 0.79156. Regression loss: 2.99981. Total loss: 3.79137\n",
            "Step: 5499. lr0.0009727516310470915 Epoch: 25/100. Iteration: 25/219. Cls loss: 0.52489. Reg loss: 2.53766. Total loss: 3.06255:  11% 24/219 [00:57<07:01,  2.16s/it]checkpoint...\n",
            "Step: 5693. lr0.0009727516310470915 Epoch: 25/100. Iteration: 219/219. Cls loss: 0.48500. Reg loss: 2.50987. Total loss: 2.99487: 100% 219/219 [07:57<00:00,  2.18s/it]\n",
            "Val. Epoch: 25/100. Classification loss: 0.56772. Regression loss: 2.88076. Total loss: 3.44848\n",
            "Step: 5912. lr0.0009690766700109655 Epoch: 26/100. Iteration: 219/219. Cls loss: 0.50020. Reg loss: 2.66562. Total loss: 3.16582: 100% 219/219 [07:57<00:00,  2.18s/it]\n",
            "Val. Epoch: 26/100. Classification loss: 1.60420. Regression loss: 2.99309. Total loss: 4.59729\n",
            "Step: 5999. lr0.0009651855067509855 Epoch: 27/100. Iteration: 87/219. Cls loss: 0.45049. Reg loss: 2.48025. Total loss: 2.93074:  39% 86/219 [03:11<04:47,  2.16s/it]checkpoint...\n",
            "Step: 6131. lr0.0009651855067509855 Epoch: 27/100. Iteration: 219/219. Cls loss: 0.45438. Reg loss: 2.40848. Total loss: 2.86286: 100% 219/219 [07:57<00:00,  2.18s/it]\n",
            "Val. Epoch: 27/100. Classification loss: 0.52763. Regression loss: 2.80756. Total loss: 3.33519\n",
            "Step: 6350. lr0.0009610819813755033 Epoch: 28/100. Iteration: 219/219. Cls loss: 0.56943. Reg loss: 2.42745. Total loss: 2.99688: 100% 219/219 [07:57<00:00,  2.18s/it]\n",
            "Val. Epoch: 28/100. Classification loss: 0.53951. Regression loss: 2.89476. Total loss: 3.43427\n",
            "Step: 6499. lr0.0009567701435686401 Epoch: 29/100. Iteration: 149/219. Cls loss: 0.57274. Reg loss: 3.34575. Total loss: 3.91849:  68% 148/219 [05:25<02:33,  2.16s/it]checkpoint...\n",
            "Step: 6569. lr0.0009567701435686401 Epoch: 29/100. Iteration: 219/219. Cls loss: 0.62168. Reg loss: 3.10122. Total loss: 3.72290: 100% 219/219 [07:57<00:00,  2.18s/it]\n",
            "Val. Epoch: 29/100. Classification loss: 0.53006. Regression loss: 2.88399. Total loss: 3.41405\n",
            "Step: 6788. lr0.0009522542485937366 Epoch: 30/100. Iteration: 219/219. Cls loss: 0.54047. Reg loss: 2.79122. Total loss: 3.33169: 100% 219/219 [07:57<00:00,  2.18s/it]\n",
            "Val. Epoch: 30/100. Classification loss: 0.51600. Regression loss: 2.84549. Total loss: 3.36149\n",
            "Step: 6999. lr0.0009475387530939222 Epoch: 31/100. Iteration: 211/219. Cls loss: 0.43787. Reg loss: 2.67272. Total loss: 3.11059:  96% 210/219 [07:40<00:19,  2.16s/it]checkpoint...\n",
            "Step: 7007. lr0.0009475387530939222 Epoch: 31/100. Iteration: 219/219. Cls loss: 0.53121. Reg loss: 3.06387. Total loss: 3.59508: 100% 219/219 [07:57<00:00,  2.18s/it]\n",
            "Val. Epoch: 31/100. Classification loss: 0.55284. Regression loss: 2.83487. Total loss: 3.38770\n",
            "Step: 7226. lr0.000942628310693947 Epoch: 32/100. Iteration: 219/219. Cls loss: 0.48475. Reg loss: 2.42938. Total loss: 2.91414: 100% 219/219 [07:57<00:00,  2.18s/it]\n",
            "Val. Epoch: 32/100. Classification loss: 0.49748. Regression loss: 2.78418. Total loss: 3.28165\n",
            "Step: 7445. lr0.0009375277674076145 Epoch: 33/100. Iteration: 219/219. Cls loss: 0.51234. Reg loss: 2.52167. Total loss: 3.03401: 100% 219/219 [07:57<00:00,  2.18s/it]\n",
            "Val. Epoch: 33/100. Classification loss: 0.50781. Regression loss: 2.92254. Total loss: 3.43034\n",
            "Step: 7499. lr0.0009322421568553525 Epoch: 34/100. Iteration: 54/219. Cls loss: 0.51898. Reg loss: 2.52704. Total loss: 3.04603:  24% 53/219 [02:00<05:59,  2.16s/it]checkpoint...\n",
            "Step: 7664. lr0.0009322421568553525 Epoch: 34/100. Iteration: 219/219. Cls loss: 0.51778. Reg loss: 3.14118. Total loss: 3.65896: 100% 219/219 [07:57<00:00,  2.18s/it]\n",
            "Val. Epoch: 34/100. Classification loss: 0.51349. Regression loss: 2.88220. Total loss: 3.39568\n",
            "Step: 7883. lr0.0009267766952966365 Epoch: 35/100. Iteration: 219/219. Cls loss: 0.48947. Reg loss: 3.23156. Total loss: 3.72103: 100% 219/219 [07:57<00:00,  2.18s/it]\n",
            "Val. Epoch: 35/100. Classification loss: 0.89488. Regression loss: 4.24019. Total loss: 5.13507\n",
            "Step: 7999. lr0.0009211367764821719 Epoch: 36/100. Iteration: 116/219. Cls loss: 0.57896. Reg loss: 2.75124. Total loss: 3.33020:  53% 115/219 [04:14<03:45,  2.16s/it]checkpoint...\n",
            "Step: 8102. lr0.0009211367764821719 Epoch: 36/100. Iteration: 219/219. Cls loss: 0.47769. Reg loss: 2.56273. Total loss: 3.04042: 100% 219/219 [07:57<00:00,  2.18s/it]\n",
            "Val. Epoch: 36/100. Classification loss: 0.49025. Regression loss: 2.75458. Total loss: 3.24482\n",
            "Step: 8321. lr0.0009153279663309127 Epoch: 37/100. Iteration: 219/219. Cls loss: 0.43574. Reg loss: 2.74617. Total loss: 3.18191: 100% 219/219 [07:57<00:00,  2.18s/it]\n",
            "Val. Epoch: 37/100. Classification loss: 0.49702. Regression loss: 2.85257. Total loss: 3.34960\n",
            "Step: 8499. lr0.0009093559974371722 Epoch: 38/100. Iteration: 178/219. Cls loss: 0.47225. Reg loss: 2.93137. Total loss: 3.40362:  81% 177/219 [06:28<01:30,  2.16s/it]checkpoint...\n",
            "Step: 8540. lr0.0009093559974371722 Epoch: 38/100. Iteration: 219/219. Cls loss: 0.44602. Reg loss: 2.26709. Total loss: 2.71311: 100% 219/219 [07:57<00:00,  2.18s/it]\n",
            "Val. Epoch: 38/100. Classification loss: 0.51461. Regression loss: 2.71142. Total loss: 3.22603\n",
            "Step: 8759. lr0.0009032267634132439 Epoch: 39/100. Iteration: 219/219. Cls loss: 0.53317. Reg loss: 2.63392. Total loss: 3.16708: 100% 219/219 [07:57<00:00,  2.18s/it]\n",
            "Val. Epoch: 39/100. Classification loss: 0.54041. Regression loss: 2.89307. Total loss: 3.43347\n",
            "Step: 8978. lr0.000896946313073118 Epoch: 40/100. Iteration: 219/219. Cls loss: 0.45384. Reg loss: 2.76139. Total loss: 3.21523: 100% 219/219 [07:57<00:00,  2.18s/it]\n",
            "Val. Epoch: 40/100. Classification loss: 0.50546. Regression loss: 2.78192. Total loss: 3.28738\n",
            "Step: 8999. lr0.0008905208444630324 Epoch: 41/100. Iteration: 21/219. Cls loss: 0.44756. Reg loss: 2.71001. Total loss: 3.15757:   9% 20/219 [00:48<07:10,  2.16s/it]checkpoint...\n",
            "Step: 9197. lr0.0008905208444630324 Epoch: 41/100. Iteration: 219/219. Cls loss: 0.51725. Reg loss: 2.09030. Total loss: 2.60755: 100% 219/219 [07:57<00:00,  2.18s/it]\n",
            "Val. Epoch: 41/100. Classification loss: 0.49426. Regression loss: 2.77280. Total loss: 3.26707\n",
            "Step: 9416. lr0.0008839566987447489 Epoch: 42/100. Iteration: 219/219. Cls loss: 0.40809. Reg loss: 2.49810. Total loss: 2.90619: 100% 219/219 [07:57<00:00,  2.18s/it]\n",
            "Val. Epoch: 42/100. Classification loss: 0.50550. Regression loss: 2.80857. Total loss: 3.31406\n",
            "Step: 9499. lr0.0008772603539375926 Epoch: 43/100. Iteration: 83/219. Cls loss: 0.39076. Reg loss: 2.18337. Total loss: 2.57413:  37% 82/219 [03:02<04:56,  2.17s/it]checkpoint...\n",
            "Step: 9635. lr0.0008772603539375926 Epoch: 43/100. Iteration: 219/219. Cls loss: 0.41771. Reg loss: 2.67403. Total loss: 3.09174: 100% 219/219 [07:57<00:00,  2.18s/it]\n",
            "Val. Epoch: 43/100. Classification loss: 0.49407. Regression loss: 2.68449. Total loss: 3.17856\n",
            "Step: 9854. lr0.0008704384185254286 Epoch: 44/100. Iteration: 219/219. Cls loss: 0.43933. Reg loss: 2.70636. Total loss: 3.14569: 100% 219/219 [07:57<00:00,  2.18s/it]\n",
            "Val. Epoch: 44/100. Classification loss: 0.49449. Regression loss: 2.66788. Total loss: 3.16237\n",
            "Step: 9999. lr0.0008634976249348865 Epoch: 45/100. Iteration: 145/219. Cls loss: 0.44323. Reg loss: 2.40399. Total loss: 2.84723:  66% 144/219 [05:16<02:42,  2.16s/it]checkpoint...\n",
            "Step: 10073. lr0.0008634976249348865 Epoch: 45/100. Iteration: 219/219. Cls loss: 0.51481. Reg loss: 2.77484. Total loss: 3.28965: 100% 219/219 [07:57<00:00,  2.18s/it]\n",
            "Val. Epoch: 45/100. Classification loss: 0.51973. Regression loss: 2.70891. Total loss: 3.22864\n",
            "Step: 10292. lr0.000856444822891268 Epoch: 46/100. Iteration: 219/219. Cls loss: 0.40687. Reg loss: 2.50360. Total loss: 2.91047: 100% 219/219 [07:57<00:00,  2.18s/it]\n",
            "Val. Epoch: 46/100. Classification loss: 0.50206. Regression loss: 2.66699. Total loss: 3.16905\n",
            "Step: 10499. lr0.000849286972658695 Epoch: 47/100. Iteration: 207/219. Cls loss: 0.38939. Reg loss: 2.10460. Total loss: 2.49399:  94% 206/219 [07:31<00:28,  2.16s/it]checkpoint...\n",
            "Step: 10511. lr0.000849286972658695 Epoch: 47/100. Iteration: 219/219. Cls loss: 0.45252. Reg loss: 2.74954. Total loss: 3.20206: 100% 219/219 [07:57<00:00,  2.18s/it]\n",
            "Val. Epoch: 47/100. Classification loss: 0.47736. Regression loss: 2.68659. Total loss: 3.16394\n",
            "Step: 10730. lr0.0008420311381711694 Epoch: 48/100. Iteration: 219/219. Cls loss: 0.38972. Reg loss: 2.21511. Total loss: 2.60483: 100% 219/219 [07:57<00:00,  2.18s/it]\n",
            "Val. Epoch: 48/100. Classification loss: 0.57229. Regression loss: 2.74420. Total loss: 3.31649\n",
            "Step: 10949. lr0.0008346844800613228 Epoch: 49/100. Iteration: 219/219. Cls loss: 0.46201. Reg loss: 2.51168. Total loss: 2.97369: 100% 219/219 [07:57<00:00,  2.18s/it]\n",
            "Val. Epoch: 49/100. Classification loss: 0.53614. Regression loss: 2.64933. Total loss: 3.18547\n",
            "Step: 10999. lr0.0008272542485937367 Epoch: 50/100. Iteration: 50/219. Cls loss: 0.48119. Reg loss: 3.13868. Total loss: 3.61987:  22% 49/219 [01:51<06:07,  2.16s/it]checkpoint...\n",
            "Step: 11168. lr0.0008272542485937367 Epoch: 50/100. Iteration: 219/219. Cls loss: 0.46812. Reg loss: 2.51105. Total loss: 2.97917: 100% 219/219 [07:57<00:00,  2.18s/it]\n",
            "Val. Epoch: 50/100. Classification loss: 0.47678. Regression loss: 2.71605. Total loss: 3.19283\n",
            "Step: 11387. lr0.0008197477765098072 Epoch: 51/100. Iteration: 219/219. Cls loss: 0.45285. Reg loss: 2.57523. Total loss: 3.02808: 100% 219/219 [07:57<00:00,  2.18s/it]\n",
            "Val. Epoch: 51/100. Classification loss: 0.48170. Regression loss: 2.68495. Total loss: 3.16665\n",
            "Step: 11499. lr0.0008121724717912135 Epoch: 52/100. Iteration: 112/219. Cls loss: 0.56615. Reg loss: 1.54416. Total loss: 2.11032:  51% 111/219 [04:05<03:53,  2.16s/it]checkpoint...\n",
            "Step: 11606. lr0.0008121724717912135 Epoch: 52/100. Iteration: 219/219. Cls loss: 0.36147. Reg loss: 2.33743. Total loss: 2.69890: 100% 219/219 [07:57<00:00,  2.18s/it]\n",
            "Val. Epoch: 52/100. Classification loss: 0.46910. Regression loss: 2.69595. Total loss: 3.16505\n",
            "Step: 11825. lr0.0008045358103491356 Epoch: 53/100. Iteration: 219/219. Cls loss: 0.48874. Reg loss: 2.86115. Total loss: 3.34989: 100% 219/219 [07:57<00:00,  2.18s/it]\n",
            "Val. Epoch: 53/100. Classification loss: 0.51006. Regression loss: 2.66657. Total loss: 3.17663\n",
            "Step: 11999. lr0.000796845328646431 Epoch: 54/100. Iteration: 174/219. Cls loss: 0.40725. Reg loss: 2.30208. Total loss: 2.70933:  79% 173/219 [06:20<01:39,  2.17s/it]checkpoint...\n",
            "Step: 12044. lr0.000796845328646431 Epoch: 54/100. Iteration: 219/219. Cls loss: 0.40768. Reg loss: 2.80033. Total loss: 3.20801: 100% 219/219 [07:57<00:00,  2.18s/it]\n",
            "Val. Epoch: 54/100. Classification loss: 0.46741. Regression loss: 2.67574. Total loss: 3.14315\n",
            "Step: 12263. lr0.0007891086162600576 Epoch: 55/100. Iteration: 219/219. Cls loss: 0.46521. Reg loss: 2.17608. Total loss: 2.64128: 100% 219/219 [07:57<00:00,  2.18s/it]\n",
            "Val. Epoch: 55/100. Classification loss: 0.49068. Regression loss: 2.68296. Total loss: 3.17364\n",
            "Step: 12482. lr0.000781333308391076 Epoch: 56/100. Iteration: 219/219. Cls loss: 0.41952. Reg loss: 1.94307. Total loss: 2.36260: 100% 219/219 [07:57<00:00,  2.18s/it]\n",
            "Val. Epoch: 56/100. Classification loss: 0.46926. Regression loss: 2.67390. Total loss: 3.14316\n",
            "Step: 12499. lr0.0007735270783296284 Epoch: 57/100. Iteration: 17/219. Cls loss: 0.62530. Reg loss: 2.30064. Total loss: 2.92594:   7% 16/219 [00:39<07:21,  2.17s/it]checkpoint...\n",
            "Step: 12701. lr0.0007735270783296284 Epoch: 57/100. Iteration: 219/219. Cls loss: 0.39518. Reg loss: 2.33630. Total loss: 2.73148: 100% 219/219 [07:57<00:00,  2.18s/it]\n",
            "Val. Epoch: 57/100. Classification loss: 0.48401. Regression loss: 2.66092. Total loss: 3.14493\n",
            "Step: 12920. lr0.0007656976298823282 Epoch: 58/100. Iteration: 219/219. Cls loss: 0.42668. Reg loss: 2.56948. Total loss: 2.99615: 100% 219/219 [07:57<00:00,  2.18s/it]\n",
            "Val. Epoch: 58/100. Classification loss: 0.47611. Regression loss: 2.67315. Total loss: 3.14926\n",
            "Step: 12999. lr0.0007578526897695319 Epoch: 59/100. Iteration: 79/219. Cls loss: 0.38703. Reg loss: 2.31220. Total loss: 2.69923:  36% 78/219 [02:54<05:05,  2.17s/it]checkpoint...\n",
            "Step: 13139. lr0.0007578526897695319 Epoch: 59/100. Iteration: 219/219. Cls loss: 0.55245. Reg loss: 2.88703. Total loss: 3.43948: 100% 219/219 [07:57<00:00,  2.18s/it]\n",
            "Val. Epoch: 59/100. Classification loss: 0.46411. Regression loss: 2.69922. Total loss: 3.16333\n",
            "Step: 13358. lr0.0007499999999999998 Epoch: 60/100. Iteration: 219/219. Cls loss: 0.54774. Reg loss: 2.49974. Total loss: 3.04748: 100% 219/219 [07:58<00:00,  2.18s/it]\n",
            "Val. Epoch: 60/100. Classification loss: 0.49896. Regression loss: 2.65934. Total loss: 3.15830\n",
            "Step: 13499. lr0.0007421473102304677 Epoch: 61/100. Iteration: 141/219. Cls loss: 0.43800. Reg loss: 1.91729. Total loss: 2.35529:  64% 140/219 [05:09<02:51,  2.17s/it]checkpoint...\n",
            "Step: 13577. lr0.0007421473102304677 Epoch: 61/100. Iteration: 219/219. Cls loss: 0.45863. Reg loss: 1.91956. Total loss: 2.37819: 100% 219/219 [07:58<00:00,  2.18s/it]\n",
            "Val. Epoch: 61/100. Classification loss: 0.45786. Regression loss: 2.83249. Total loss: 3.29035\n",
            "Step: 13796. lr0.0007343023701176714 Epoch: 62/100. Iteration: 219/219. Cls loss: 0.34712. Reg loss: 1.98048. Total loss: 2.32760: 100% 219/219 [07:57<00:00,  2.18s/it]\n",
            "Val. Epoch: 62/100. Classification loss: 0.46595. Regression loss: 2.69317. Total loss: 3.15912\n",
            "Step: 13999. lr0.0007264729216703711 Epoch: 63/100. Iteration: 203/219. Cls loss: 0.43733. Reg loss: 2.28135. Total loss: 2.71868:  92% 202/219 [07:23<00:36,  2.16s/it]checkpoint...\n",
            "Step: 14015. lr0.0007264729216703711 Epoch: 63/100. Iteration: 219/219. Cls loss: 0.48046. Reg loss: 2.56731. Total loss: 3.04776: 100% 219/219 [07:58<00:00,  2.18s/it]\n",
            "Val. Epoch: 63/100. Classification loss: 0.45335. Regression loss: 2.64434. Total loss: 3.09769\n",
            "Step: 14234. lr0.0007186666916089237 Epoch: 64/100. Iteration: 219/219. Cls loss: 0.37062. Reg loss: 2.42036. Total loss: 2.79098: 100% 219/219 [07:58<00:00,  2.18s/it]\n",
            "Val. Epoch: 64/100. Classification loss: 0.46378. Regression loss: 2.63511. Total loss: 3.09890\n",
            "Step: 14453. lr0.0007108913837399421 Epoch: 65/100. Iteration: 219/219. Cls loss: 0.40495. Reg loss: 1.97678. Total loss: 2.38172: 100% 219/219 [07:57<00:00,  2.18s/it]\n",
            "Val. Epoch: 65/100. Classification loss: 0.46396. Regression loss: 2.62068. Total loss: 3.08463\n",
            "Step: 14499. lr0.0007031546713535688 Epoch: 66/100. Iteration: 46/219. Cls loss: 0.46935. Reg loss: 3.09992. Total loss: 3.56927:  21% 45/219 [01:43<06:17,  2.17s/it]checkpoint...\n",
            "Step: 14672. lr0.0007031546713535688 Epoch: 66/100. Iteration: 219/219. Cls loss: 0.50477. Reg loss: 2.87269. Total loss: 3.37746: 100% 219/219 [07:58<00:00,  2.18s/it]\n",
            "Val. Epoch: 66/100. Classification loss: 0.45751. Regression loss: 2.66950. Total loss: 3.12702\n",
            "Step: 14891. lr0.0006954641896508644 Epoch: 67/100. Iteration: 219/219. Cls loss: 0.45227. Reg loss: 1.77742. Total loss: 2.22970: 100% 219/219 [07:57<00:00,  2.18s/it]\n",
            "Val. Epoch: 67/100. Classification loss: 0.44643. Regression loss: 2.59420. Total loss: 3.04063\n",
            "Step: 14999. lr0.0006878275282087862 Epoch: 68/100. Iteration: 108/219. Cls loss: 0.38335. Reg loss: 1.86635. Total loss: 2.24970:  49% 107/219 [03:57<04:02,  2.17s/it]checkpoint...\n",
            "Step: 15110. lr0.0006878275282087862 Epoch: 68/100. Iteration: 219/219. Cls loss: 0.38070. Reg loss: 1.89818. Total loss: 2.27889: 100% 219/219 [07:58<00:00,  2.18s/it]\n",
            "Val. Epoch: 68/100. Classification loss: 0.47377. Regression loss: 2.66897. Total loss: 3.14274\n",
            "Step: 15329. lr0.0006802522234901926 Epoch: 69/100. Iteration: 219/219. Cls loss: 0.32913. Reg loss: 1.97365. Total loss: 2.30278: 100% 219/219 [07:57<00:00,  2.18s/it]\n",
            "Val. Epoch: 69/100. Classification loss: 0.46804. Regression loss: 2.60097. Total loss: 3.06901\n",
            "Step: 15499. lr0.0006727457514062631 Epoch: 70/100. Iteration: 170/219. Cls loss: 0.49346. Reg loss: 2.36270. Total loss: 2.85616:  77% 169/219 [06:11<01:48,  2.17s/it]checkpoint...\n",
            "Step: 15548. lr0.0006727457514062631 Epoch: 70/100. Iteration: 219/219. Cls loss: 0.38417. Reg loss: 2.32626. Total loss: 2.71043: 100% 219/219 [07:58<00:00,  2.18s/it]\n",
            "Val. Epoch: 70/100. Classification loss: 0.48098. Regression loss: 2.65362. Total loss: 3.13461\n",
            "Step: 15767. lr0.0006653155199386771 Epoch: 71/100. Iteration: 219/219. Cls loss: 0.47474. Reg loss: 2.44872. Total loss: 2.92346: 100% 219/219 [07:58<00:00,  2.18s/it]\n",
            "Val. Epoch: 71/100. Classification loss: 0.52735. Regression loss: 2.63432. Total loss: 3.16167\n",
            "Step: 15986. lr0.0006579688618288305 Epoch: 72/100. Iteration: 219/219. Cls loss: 0.39865. Reg loss: 2.32755. Total loss: 2.72620: 100% 219/219 [07:57<00:00,  2.18s/it]\n",
            "Val. Epoch: 72/100. Classification loss: 0.44135. Regression loss: 2.61356. Total loss: 3.05490\n",
            "Step: 15999. lr0.0006507130273413047 Epoch: 73/100. Iteration: 13/219. Cls loss: 0.30346. Reg loss: 1.64439. Total loss: 1.94785:   5% 12/219 [00:31<07:31,  2.18s/it]checkpoint...\n",
            "Step: 16205. lr0.0006507130273413047 Epoch: 73/100. Iteration: 219/219. Cls loss: 0.51781. Reg loss: 3.18289. Total loss: 3.70070: 100% 219/219 [07:57<00:00,  2.18s/it]\n",
            "Val. Epoch: 73/100. Classification loss: 0.47923. Regression loss: 2.59895. Total loss: 3.07818\n",
            "Step: 16424. lr0.0006435551771087317 Epoch: 74/100. Iteration: 219/219. Cls loss: 0.32813. Reg loss: 1.75156. Total loss: 2.07969: 100% 219/219 [07:57<00:00,  2.18s/it]\n",
            "Val. Epoch: 74/100. Classification loss: 0.44499. Regression loss: 2.59735. Total loss: 3.04234\n",
            "Step: 16499. lr0.0006365023750651132 Epoch: 75/100. Iteration: 75/219. Cls loss: 0.41815. Reg loss: 2.48483. Total loss: 2.90299:  34% 74/219 [02:45<05:13,  2.16s/it]checkpoint...\n",
            "Step: 16643. lr0.0006365023750651132 Epoch: 75/100. Iteration: 219/219. Cls loss: 0.35877. Reg loss: 2.31821. Total loss: 2.67698: 100% 219/219 [07:57<00:00,  2.18s/it]\n",
            "Val. Epoch: 75/100. Classification loss: 0.47518. Regression loss: 2.65522. Total loss: 3.13040\n",
            "Step: 16862. lr0.000629561581474571 Epoch: 76/100. Iteration: 219/219. Cls loss: 0.42752. Reg loss: 2.12084. Total loss: 2.54835: 100% 219/219 [07:57<00:00,  2.18s/it]\n",
            "Val. Epoch: 76/100. Classification loss: 0.47156. Regression loss: 2.58025. Total loss: 3.05180\n",
            "Step: 16999. lr0.0006227396460624071 Epoch: 77/100. Iteration: 137/219. Cls loss: 0.38554. Reg loss: 1.48168. Total loss: 1.86722:  62% 136/219 [04:59<02:59,  2.16s/it]checkpoint...\n",
            "Step: 17081. lr0.0006227396460624071 Epoch: 77/100. Iteration: 219/219. Cls loss: 0.41361. Reg loss: 2.38661. Total loss: 2.80022: 100% 219/219 [07:57<00:00,  2.18s/it]\n",
            "Val. Epoch: 77/100. Classification loss: 0.44547. Regression loss: 2.60416. Total loss: 3.04963\n",
            "Step: 17300. lr0.0006160433012552507 Epoch: 78/100. Iteration: 219/219. Cls loss: 0.37780. Reg loss: 2.36023. Total loss: 2.73803: 100% 219/219 [07:57<00:00,  2.18s/it]\n",
            "Val. Epoch: 78/100. Classification loss: 0.45077. Regression loss: 2.66540. Total loss: 3.11617\n",
            "Step: 17499. lr0.0006094791555369672 Epoch: 79/100. Iteration: 199/219. Cls loss: 0.40850. Reg loss: 2.14958. Total loss: 2.55807:  90% 198/219 [07:14<00:45,  2.16s/it]checkpoint...\n",
            "Step: 17519. lr0.0006094791555369672 Epoch: 79/100. Iteration: 219/219. Cls loss: 0.50527. Reg loss: 3.37013. Total loss: 3.87540: 100% 219/219 [07:58<00:00,  2.18s/it]\n",
            "Val. Epoch: 79/100. Classification loss: 0.47148. Regression loss: 2.64420. Total loss: 3.11568\n",
            "Step: 17738. lr0.0006030536869268817 Epoch: 80/100. Iteration: 219/219. Cls loss: 0.38674. Reg loss: 2.63485. Total loss: 3.02159: 100% 219/219 [07:57<00:00,  2.18s/it]\n",
            "Val. Epoch: 80/100. Classification loss: 0.45850. Regression loss: 2.68713. Total loss: 3.14562\n",
            "Step: 17957. lr0.0005967732365867558 Epoch: 81/100. Iteration: 219/219. Cls loss: 0.32600. Reg loss: 2.20324. Total loss: 2.52924: 100% 219/219 [07:58<00:00,  2.18s/it]\n",
            "Val. Epoch: 81/100. Classification loss: 0.48342. Regression loss: 2.66339. Total loss: 3.14680\n",
            "Step: 17999. lr0.0005906440025628275 Epoch: 82/100. Iteration: 42/219. Cls loss: 0.43575. Reg loss: 2.49581. Total loss: 2.93156:  19% 41/219 [01:34<06:25,  2.16s/it]checkpoint...\n",
            "Step: 18176. lr0.0005906440025628275 Epoch: 82/100. Iteration: 219/219. Cls loss: 0.38576. Reg loss: 1.98998. Total loss: 2.37574: 100% 219/219 [07:58<00:00,  2.18s/it]\n",
            "Val. Epoch: 82/100. Classification loss: 0.50790. Regression loss: 2.62893. Total loss: 3.13682\n",
            "Step: 18395. lr0.0005846720336690871 Epoch: 83/100. Iteration: 219/219. Cls loss: 0.40807. Reg loss: 2.19674. Total loss: 2.60481: 100% 219/219 [07:57<00:00,  2.18s/it]\n",
            "Val. Epoch: 83/100. Classification loss: 0.44007. Regression loss: 2.65734. Total loss: 3.09741\n",
            "Step: 18499. lr0.0005788632235178278 Epoch: 84/100. Iteration: 104/219. Cls loss: 0.29645. Reg loss: 1.70314. Total loss: 1.99959:  47% 103/219 [03:48<04:11,  2.17s/it]checkpoint...\n",
            "Step: 18614. lr0.0005788632235178278 Epoch: 84/100. Iteration: 219/219. Cls loss: 0.38045. Reg loss: 1.90686. Total loss: 2.28730: 100% 219/219 [07:58<00:00,  2.18s/it]\n",
            "Val. Epoch: 84/100. Classification loss: 0.48294. Regression loss: 2.61462. Total loss: 3.09756\n",
            "Step: 18833. lr0.0005732233047033631 Epoch: 85/100. Iteration: 219/219. Cls loss: 0.40135. Reg loss: 2.44293. Total loss: 2.84428: 100% 219/219 [07:58<00:00,  2.18s/it]\n",
            "Val. Epoch: 85/100. Classification loss: 0.50122. Regression loss: 2.57459. Total loss: 3.07582\n",
            "Step: 18999. lr0.0005677578431446471 Epoch: 86/100. Iteration: 166/219. Cls loss: 0.47303. Reg loss: 2.30338. Total loss: 2.77641:  75% 165/219 [06:03<01:56,  2.17s/it]checkpoint...\n",
            "Step: 19052. lr0.0005677578431446471 Epoch: 86/100. Iteration: 219/219. Cls loss: 0.37315. Reg loss: 2.46938. Total loss: 2.84253: 100% 219/219 [07:58<00:00,  2.18s/it]\n",
            "Val. Epoch: 86/100. Classification loss: 0.44312. Regression loss: 2.59855. Total loss: 3.04167\n",
            "Step: 19271. lr0.0005624722325923851 Epoch: 87/100. Iteration: 219/219. Cls loss: 0.47999. Reg loss: 1.76355. Total loss: 2.24354: 100% 219/219 [07:58<00:00,  2.18s/it]\n",
            "Val. Epoch: 87/100. Classification loss: 0.46368. Regression loss: 2.67918. Total loss: 3.14286\n",
            "Step: 19490. lr0.0005573716893060527 Epoch: 88/100. Iteration: 219/219. Cls loss: 0.38886. Reg loss: 2.03805. Total loss: 2.42691: 100% 219/219 [07:57<00:00,  2.18s/it]\n",
            "Val. Epoch: 88/100. Classification loss: 0.45806. Regression loss: 2.67382. Total loss: 3.13188\n",
            "Step: 19499. lr0.0005524612469060775 Epoch: 89/100. Iteration: 9/219. Cls loss: 0.45836. Reg loss: 2.42574. Total loss: 2.88411:   4% 8/219 [00:22<07:56,  2.26s/it]checkpoint...\n",
            "Step: 19709. lr0.0005524612469060775 Epoch: 89/100. Iteration: 219/219. Cls loss: 0.39327. Reg loss: 1.76364. Total loss: 2.15692: 100% 219/219 [07:58<00:00,  2.18s/it]\n",
            "Val. Epoch: 89/100. Classification loss: 0.44894. Regression loss: 2.72153. Total loss: 3.17047\n",
            "Step: 19928. lr0.0005477457514062633 Epoch: 90/100. Iteration: 219/219. Cls loss: 0.37062. Reg loss: 2.42315. Total loss: 2.79377: 100% 219/219 [07:58<00:00,  2.18s/it]\n",
            "Val. Epoch: 90/100. Classification loss: 0.45567. Regression loss: 2.65252. Total loss: 3.10819\n",
            "Step: 19999. lr0.0005432298564313596 Epoch: 91/100. Iteration: 71/219. Cls loss: 0.50706. Reg loss: 2.08367. Total loss: 2.59073:  32% 70/219 [02:36<05:23,  2.17s/it]checkpoint...\n",
            "Step: 20147. lr0.0005432298564313596 Epoch: 91/100. Iteration: 219/219. Cls loss: 0.38143. Reg loss: 2.05313. Total loss: 2.43456: 100% 219/219 [07:57<00:00,  2.18s/it]\n",
            "Val. Epoch: 91/100. Classification loss: 0.46058. Regression loss: 2.61069. Total loss: 3.07126\n",
            "Step: 20366. lr0.0005389180186244964 Epoch: 92/100. Iteration: 219/219. Cls loss: 0.31107. Reg loss: 1.97453. Total loss: 2.28559: 100% 219/219 [07:57<00:00,  2.18s/it]\n",
            "Val. Epoch: 92/100. Classification loss: 0.43635. Regression loss: 2.61932. Total loss: 3.05567\n",
            "Step: 20499. lr0.0005348144932490141 Epoch: 93/100. Iteration: 133/219. Cls loss: 0.30096. Reg loss: 1.90956. Total loss: 2.21052:  60% 132/219 [04:51<03:08,  2.17s/it]checkpoint...\n",
            "Step: 20585. lr0.0005348144932490141 Epoch: 93/100. Iteration: 219/219. Cls loss: 0.39749. Reg loss: 2.01041. Total loss: 2.40790: 100% 219/219 [07:57<00:00,  2.18s/it]\n",
            "Val. Epoch: 93/100. Classification loss: 0.50075. Regression loss: 2.67584. Total loss: 3.17659\n",
            "Step: 20804. lr0.0005309233299890341 Epoch: 94/100. Iteration: 219/219. Cls loss: 0.39170. Reg loss: 2.28151. Total loss: 2.67321: 100% 219/219 [07:58<00:00,  2.18s/it]\n",
            "Val. Epoch: 94/100. Classification loss: 0.44557. Regression loss: 2.59793. Total loss: 3.04350\n",
            "Step: 20999. lr0.0005272483689529081 Epoch: 95/100. Iteration: 195/219. Cls loss: 0.36972. Reg loss: 1.70950. Total loss: 2.07922:  89% 194/219 [07:05<00:54,  2.17s/it]checkpoint...\n",
            "Step: 21023. lr0.0005272483689529081 Epoch: 95/100. Iteration: 219/219. Cls loss: 0.38452. Reg loss: 1.92384. Total loss: 2.30837: 100% 219/219 [07:58<00:00,  2.18s/it]\n",
            "Val. Epoch: 95/100. Classification loss: 0.43980. Regression loss: 2.62649. Total loss: 3.06628\n",
            "Step: 21241. lr0.0005237932368834952 Epoch: 96/100. Iteration: 218/219. Cls loss: 0.31531. Reg loss: 1.99713. Total loss: 2.31243: 100% 218/219 [07:55<00:02,  2.16s/it]Exception ignored in: <function _MultiProcessingDataLoaderIter.__del__ at 0x7f3e12665c20>\n",
            "Traceback (most recent call last):\n",
            "  File \"/usr/local/lib/python3.7/dist-packages/torch/utils/data/dataloader.py\", line 1328, in __del__\n",
            "    self._shutdown_workers()\n",
            "  File \"/usr/local/lib/python3.7/dist-packages/torch/utils/data/dataloader.py\", line 1301, in _shutdown_workers\n",
            "    w.join(timeout=_utils.MP_STATUS_CHECK_INTERVAL)\n",
            "  File \"/usr/lib/python3.7/multiprocessing/process.py\", line 140, in join\n",
            "    res = self._popen.wait(timeout)\n",
            "  File \"/usr/lib/python3.7/multiprocessing/popen_fork.py\", line 45, in wait\n",
            "    if not wait([self.sentinel], timeout):\n",
            "  File \"/usr/lib/python3.7/multiprocessing/connection.py\", line 921, in wait\n",
            "    ready = selector.select(timeout)\n",
            "  File \"/usr/lib/python3.7/selectors.py\", line 415, in select\n",
            "    fd_event_list = self._selector.poll(timeout)\n",
            "KeyboardInterrupt: \n",
            "Step: 21241. lr0.0005237932368834952 Epoch: 96/100. Iteration: 218/219. Cls loss: 0.31531. Reg loss: 1.99713. Total loss: 2.31243: 100% 218/219 [07:55<00:02,  2.18s/it]\n"
          ]
        }
      ]
    },
    {
      "cell_type": "code",
      "source": [
        "!python train.py -c 0 -cb 0 -p Vin_CXR_512 --batch_size 16   --lr 1e-3 --num_epochs 150\\\n",
        " --load_weights /content/Yet-Another-EfficientDet-Pytorch/logs/Vin_CXR_512/efficientdet-d0_95_21000.pth"
      ],
      "metadata": {
        "id": "AdvDbYJQYGJx",
        "colab": {
          "base_uri": "https://localhost:8080/"
        },
        "outputId": "6102b117-82d1-499e-bc48-345c0d97e28a"
      },
      "execution_count": 20,
      "outputs": [
        {
          "output_type": "stream",
          "name": "stdout",
          "text": [
            "/usr/local/lib/python3.7/dist-packages/albumentations/augmentations/transforms.py:720: FutureWarning: This class has been deprecated. Please use CoarseDropout\n",
            "  FutureWarning,\n",
            "loading annotations into memory...\n",
            "Done (t=0.06s)\n",
            "creating index...\n",
            "index created!\n",
            "/usr/local/lib/python3.7/dist-packages/torch/utils/data/dataloader.py:481: UserWarning: This DataLoader will create 12 worker processes in total. Our suggested max number of worker in current system is 4, which is smaller than what this DataLoader is going to create. Please be aware that excessive worker creation might get DataLoader running slow or even freeze, lower the worker number to avoid potential slowness/freeze if necessary.\n",
            "  cpuset_checked))\n",
            "loading annotations into memory...\n",
            "Done (t=0.02s)\n",
            "creating index...\n",
            "index created!\n",
            "[Info] loaded weights: efficientdet-d0_95_21000.pth, resuming checkpoint from step: 21000\n",
            "Step: 21023. lr0.001 Epoch: 95/150. Iteration: 219/219. Cls loss: 0.40003. Reg loss: 2.25245. Total loss: 2.65248: 100% 219/219 [01:31<00:00,  2.41it/s]\n",
            "Val. Epoch: 95/150. Classification loss: 0.50752. Regression loss: 2.70744. Total loss: 3.21496\n",
            "Step: 21242. lr0.0009998766400914328 Epoch: 96/150. Iteration: 219/219. Cls loss: 0.46748. Reg loss: 2.61104. Total loss: 3.07852: 100% 219/219 [07:54<00:00,  2.17s/it]\n",
            "Val. Epoch: 96/150. Classification loss: 0.52289. Regression loss: 2.66526. Total loss: 3.18815\n",
            "Step: 21461. lr0.0009995066821070677 Epoch: 97/150. Iteration: 219/219. Cls loss: 0.44029. Reg loss: 2.63084. Total loss: 3.07113: 100% 219/219 [07:54<00:00,  2.17s/it]\n",
            "Val. Epoch: 97/150. Classification loss: 0.54186. Regression loss: 2.78273. Total loss: 3.32460\n",
            "Step: 21499. lr0.00099889049115077 Epoch: 98/150. Iteration: 38/219. Cls loss: 0.34556. Reg loss: 1.60924. Total loss: 1.95480:  17% 37/219 [01:25<06:30,  2.15s/it]checkpoint...\n",
            "Step: 21680. lr0.00099889049115077 Epoch: 98/150. Iteration: 219/219. Cls loss: 0.54742. Reg loss: 2.39999. Total loss: 2.94741: 100% 219/219 [07:53<00:00,  2.16s/it]\n",
            "Val. Epoch: 98/150. Classification loss: 0.46938. Regression loss: 2.73057. Total loss: 3.19995\n",
            "Step: 21899. lr0.0009980286753286194 Epoch: 99/150. Iteration: 219/219. Cls loss: 0.31807. Reg loss: 2.24202. Total loss: 2.56009: 100% 219/219 [07:53<00:00,  2.16s/it]\n",
            "Val. Epoch: 99/150. Classification loss: 0.46194. Regression loss: 2.73411. Total loss: 3.19605\n",
            "Step: 21999. lr0.0009969220851487842 Epoch: 100/150. Iteration: 100/219. Cls loss: 0.40539. Reg loss: 2.62808. Total loss: 3.03346:  45% 99/219 [03:37<04:17,  2.15s/it]checkpoint...\n",
            "Step: 22118. lr0.0009969220851487842 Epoch: 100/150. Iteration: 219/219. Cls loss: 0.38608. Reg loss: 2.45697. Total loss: 2.84304: 100% 219/219 [07:53<00:00,  2.16s/it]\n",
            "Val. Epoch: 100/150. Classification loss: 0.46599. Regression loss: 2.73829. Total loss: 3.20428\n",
            "Step: 22337. lr0.000995571812682172 Epoch: 101/150. Iteration: 219/219. Cls loss: 0.43395. Reg loss: 1.92891. Total loss: 2.36287: 100% 219/219 [07:53<00:00,  2.16s/it]\n",
            "Val. Epoch: 101/150. Classification loss: 0.52239. Regression loss: 2.79335. Total loss: 3.31575\n",
            "Step: 22499. lr0.0009939791904846865 Epoch: 102/150. Iteration: 162/219. Cls loss: 0.33979. Reg loss: 1.84251. Total loss: 2.18230:  74% 161/219 [05:51<02:04,  2.15s/it]checkpoint...\n",
            "Step: 22556. lr0.0009939791904846865 Epoch: 102/150. Iteration: 219/219. Cls loss: 0.42354. Reg loss: 1.79658. Total loss: 2.22013: 100% 219/219 [07:53<00:00,  2.16s/it]\n",
            "Val. Epoch: 102/150. Classification loss: 0.47657. Regression loss: 2.69828. Total loss: 3.17485\n",
            "Step: 22775. lr0.0009921457902821573 Epoch: 103/150. Iteration: 219/219. Cls loss: 0.44294. Reg loss: 2.60673. Total loss: 3.04967: 100% 219/219 [07:54<00:00,  2.17s/it]\n",
            "Val. Epoch: 103/150. Classification loss: 0.55946. Regression loss: 2.72048. Total loss: 3.27994\n",
            "Step: 22994. lr0.0009900734214192352 Epoch: 104/150. Iteration: 219/219. Cls loss: 0.50553. Reg loss: 2.62950. Total loss: 3.13504: 100% 219/219 [07:54<00:00,  2.17s/it]\n",
            "Val. Epoch: 104/150. Classification loss: 0.46343. Regression loss: 2.73221. Total loss: 3.19564\n",
            "Step: 22999. lr0.0009877641290737878 Epoch: 105/150. Iteration: 5/219. Cls loss: 0.35952. Reg loss: 1.59869. Total loss: 1.95821:   2% 4/219 [00:14<09:23,  2.62s/it]checkpoint...\n",
            "Step: 23213. lr0.0009877641290737878 Epoch: 105/150. Iteration: 219/219. Cls loss: 0.42384. Reg loss: 2.29507. Total loss: 2.71891: 100% 219/219 [07:54<00:00,  2.17s/it]\n",
            "Val. Epoch: 105/150. Classification loss: 0.51376. Regression loss: 2.69294. Total loss: 3.20669\n",
            "Step: 23432. lr0.0009852201922385558 Epoch: 106/150. Iteration: 219/219. Cls loss: 0.34607. Reg loss: 1.92847. Total loss: 2.27453: 100% 219/219 [07:54<00:00,  2.17s/it]\n",
            "Val. Epoch: 106/150. Classification loss: 0.53495. Regression loss: 2.83168. Total loss: 3.36663\n",
            "Step: 23499. lr0.0009824441214720623 Epoch: 107/150. Iteration: 67/219. Cls loss: 0.35116. Reg loss: 1.66314. Total loss: 2.01430:  30% 66/219 [02:27<05:29,  2.15s/it]checkpoint...\n",
            "Step: 23651. lr0.0009824441214720623 Epoch: 107/150. Iteration: 219/219. Cls loss: 0.31914. Reg loss: 1.97107. Total loss: 2.29021: 100% 219/219 [07:54<00:00,  2.17s/it]\n",
            "Val. Epoch: 107/150. Classification loss: 0.48755. Regression loss: 2.79629. Total loss: 3.28384\n",
            "Step: 23870. lr0.0009794386564209948 Epoch: 108/150. Iteration: 219/219. Cls loss: 0.51131. Reg loss: 2.64556. Total loss: 3.15687: 100% 219/219 [07:54<00:00,  2.17s/it]\n",
            "Val. Epoch: 108/150. Classification loss: 0.46648. Regression loss: 2.68102. Total loss: 3.14750\n",
            "Step: 23999. lr0.0009762067631165045 Epoch: 109/150. Iteration: 129/219. Cls loss: 0.38582. Reg loss: 2.02886. Total loss: 2.41467:  58% 128/219 [04:41<03:15,  2.15s/it]checkpoint...\n",
            "Step: 24089. lr0.0009762067631165045 Epoch: 109/150. Iteration: 219/219. Cls loss: 0.41483. Reg loss: 2.25446. Total loss: 2.66929: 100% 219/219 [07:55<00:00,  2.17s/it]\n",
            "Val. Epoch: 109/150. Classification loss: 0.50661. Regression loss: 2.76529. Total loss: 3.27190\n",
            "Step: 24308. lr0.0009727516310470915 Epoch: 110/150. Iteration: 219/219. Cls loss: 0.44138. Reg loss: 2.49713. Total loss: 2.93851: 100% 219/219 [07:55<00:00,  2.17s/it]\n",
            "Val. Epoch: 110/150. Classification loss: 0.50087. Regression loss: 2.77846. Total loss: 3.27933\n",
            "Step: 24499. lr0.0009690766700109655 Epoch: 111/150. Iteration: 191/219. Cls loss: 0.43089. Reg loss: 2.49404. Total loss: 2.92493:  87% 190/219 [06:54<01:02,  2.15s/it]checkpoint...\n",
            "Step: 24527. lr0.0009690766700109655 Epoch: 111/150. Iteration: 219/219. Cls loss: 0.44425. Reg loss: 1.64245. Total loss: 2.08670: 100% 219/219 [07:55<00:00,  2.17s/it]\n",
            "Val. Epoch: 111/150. Classification loss: 0.47798. Regression loss: 2.71861. Total loss: 3.19659\n",
            "Step: 24746. lr0.0009651855067509855 Epoch: 112/150. Iteration: 219/219. Cls loss: 0.43512. Reg loss: 2.07039. Total loss: 2.50551: 100% 219/219 [07:55<00:00,  2.17s/it]\n",
            "Val. Epoch: 112/150. Classification loss: 0.46695. Regression loss: 2.70004. Total loss: 3.16700\n",
            "Step: 24965. lr0.0009610819813755033 Epoch: 113/150. Iteration: 219/219. Cls loss: 0.28917. Reg loss: 1.69125. Total loss: 1.98041: 100% 219/219 [07:55<00:00,  2.17s/it]\n",
            "Val. Epoch: 113/150. Classification loss: 0.45606. Regression loss: 2.73650. Total loss: 3.19257\n",
            "Step: 24999. lr0.0009567701435686401 Epoch: 114/150. Iteration: 34/219. Cls loss: 0.35053. Reg loss: 1.52497. Total loss: 1.87550:  15% 33/219 [01:16<06:40,  2.16s/it]checkpoint...\n",
            "Step: 25184. lr0.0009567701435686401 Epoch: 114/150. Iteration: 219/219. Cls loss: 0.44061. Reg loss: 2.17325. Total loss: 2.61387: 100% 219/219 [07:55<00:00,  2.17s/it]\n",
            "Val. Epoch: 114/150. Classification loss: 0.45280. Regression loss: 2.65882. Total loss: 3.11162\n",
            "Step: 25403. lr0.0009522542485937366 Epoch: 115/150. Iteration: 219/219. Cls loss: 0.40155. Reg loss: 2.14617. Total loss: 2.54772: 100% 219/219 [07:55<00:00,  2.17s/it]\n",
            "Val. Epoch: 115/150. Classification loss: 0.53167. Regression loss: 2.74572. Total loss: 3.27739\n",
            "Step: 25499. lr0.0009475387530939222 Epoch: 116/150. Iteration: 96/219. Cls loss: 0.33728. Reg loss: 1.89826. Total loss: 2.23554:  43% 95/219 [03:30<04:26,  2.15s/it]checkpoint...\n",
            "Step: 25622. lr0.0009475387530939222 Epoch: 116/150. Iteration: 219/219. Cls loss: 0.49399. Reg loss: 2.39188. Total loss: 2.88587: 100% 219/219 [07:55<00:00,  2.17s/it]\n",
            "Val. Epoch: 116/150. Classification loss: 0.47645. Regression loss: 2.68432. Total loss: 3.16078\n",
            "Step: 25841. lr0.000942628310693947 Epoch: 117/150. Iteration: 219/219. Cls loss: 0.39330. Reg loss: 2.10386. Total loss: 2.49716: 100% 219/219 [07:55<00:00,  2.17s/it]\n",
            "Val. Epoch: 117/150. Classification loss: 0.50415. Regression loss: 2.67146. Total loss: 3.17562\n",
            "Step: 25999. lr0.0009375277674076145 Epoch: 118/150. Iteration: 158/219. Cls loss: 0.42784. Reg loss: 1.98851. Total loss: 2.41635:  72% 157/219 [05:44<02:13,  2.15s/it]checkpoint...\n",
            "Step: 26060. lr0.0009375277674076145 Epoch: 118/150. Iteration: 219/219. Cls loss: 0.42166. Reg loss: 2.23386. Total loss: 2.65552: 100% 219/219 [07:55<00:00,  2.17s/it]\n",
            "Val. Epoch: 118/150. Classification loss: 0.47714. Regression loss: 2.63040. Total loss: 3.10754\n",
            "Step: 26279. lr0.0009322421568553525 Epoch: 119/150. Iteration: 219/219. Cls loss: 0.48905. Reg loss: 2.98227. Total loss: 3.47132: 100% 219/219 [07:54<00:00,  2.17s/it]\n",
            "Val. Epoch: 119/150. Classification loss: 0.47497. Regression loss: 2.74188. Total loss: 3.21685\n",
            "Step: 26498. lr0.0009267766952966365 Epoch: 120/150. Iteration: 219/219. Cls loss: 0.37685. Reg loss: 2.28412. Total loss: 2.66096: 100% 219/219 [07:55<00:00,  2.17s/it]\n",
            "Val. Epoch: 120/150. Classification loss: 0.46715. Regression loss: 2.65787. Total loss: 3.12502\n",
            "Step: 26499. lr0.0009211367764821719 Epoch: 121/150. Iteration: 1/219. Cls loss: 0.41741. Reg loss: 2.15597. Total loss: 2.57338:   0% 0/219 [00:05<?, ?it/s]checkpoint...\n",
            "Step: 26717. lr0.0009211367764821719 Epoch: 121/150. Iteration: 219/219. Cls loss: 0.36152. Reg loss: 2.33276. Total loss: 2.69428: 100% 219/219 [07:55<00:00,  2.17s/it]\n",
            "Val. Epoch: 121/150. Classification loss: 0.51769. Regression loss: 2.73154. Total loss: 3.24924\n",
            "Step: 26936. lr0.0009153279663309127 Epoch: 122/150. Iteration: 219/219. Cls loss: 0.39333. Reg loss: 1.92188. Total loss: 2.31521: 100% 219/219 [07:55<00:00,  2.17s/it]\n",
            "Val. Epoch: 122/150. Classification loss: 0.49913. Regression loss: 2.70172. Total loss: 3.20085\n",
            "Step: 26995. lr0.0009093559974371722 Epoch: 123/150. Iteration: 59/219. Cls loss: 0.32277. Reg loss: 1.78005. Total loss: 2.10282:  27% 59/219 [02:10<05:44,  2.15s/it]Exception ignored in: <function _MultiProcessingDataLoaderIter.__del__ at 0x7f8825537c20>\n",
            "Traceback (most recent call last):\n",
            "  File \"/usr/local/lib/python3.7/dist-packages/torch/utils/data/dataloader.py\", line 1328, in __del__\n",
            "    self._shutdown_workers()\n",
            "  File \"/usr/local/lib/python3.7/dist-packages/torch/utils/data/dataloader.py\", line 1301, in _shutdown_workers\n",
            "    w.join(timeout=_utils.MP_STATUS_CHECK_INTERVAL)\n",
            "  File \"/usr/lib/python3.7/multiprocessing/process.py\", line 140, in join\n",
            "    res = self._popen.wait(timeout)\n",
            "  File \"/usr/lib/python3.7/multiprocessing/popen_fork.py\", line 45, in wait\n",
            "    if not wait([self.sentinel], timeout):\n",
            "  File \"/usr/lib/python3.7/multiprocessing/connection.py\", line 921, in wait\n",
            "    ready = selector.select(timeout)\n",
            "  File \"/usr/lib/python3.7/selectors.py\", line 415, in select\n",
            "    fd_event_list = self._selector.poll(timeout)\n",
            "KeyboardInterrupt: \n",
            "Step: 26995. lr0.0009093559974371722 Epoch: 123/150. Iteration: 59/219. Cls loss: 0.32277. Reg loss: 1.78005. Total loss: 2.10282:  27% 59/219 [02:11<05:56,  2.23s/it]\n"
          ]
        }
      ]
    },
    {
      "cell_type": "code",
      "metadata": {
        "id": "s9YW_tmP_FgU"
      },
      "source": [
        "import torch\n",
        "from torch.backends import cudnn\n",
        "\n",
        "from backbone import EfficientDetBackbone\n",
        "import cv2\n",
        "import matplotlib.pyplot as plt\n",
        "import numpy as np\n",
        "\n",
        "from efficientdet.utils import BBoxTransform, ClipBoxes\n",
        "from utils.utils import preprocess, invert_affine, postprocess\n",
        "\n",
        "compound_coef = 0\n",
        "force_input_size = None  # set None to use default size\n",
        "val_path=Path('datasets/Vin_CXR_512/val')\n",
        "val_list= os.listdir(val_path)\n",
        "img_path = 'datasets/Vin_CXR_512/val/'+val_list[0]\n",
        "\n",
        "threshold = 0.1\n",
        "iou_threshold = 0.2\n",
        "\n",
        "use_cuda = True\n",
        "use_float16 = False\n",
        "cudnn.fastest = True\n",
        "cudnn.benchmark = True\n",
        "\n",
        "obj_list = [\"Aortic_enlargement\",\n",
        "            \"Atelectasis\",\n",
        "            \"Calcification\",\n",
        "            \"Cardiomegaly\",\n",
        "            \"Consolidation\",\n",
        "            \"ILD\",\n",
        "            \"Infiltration\",\n",
        "            \"Lung_Opacity\",\n",
        "            \"Nodule/Mass\",\n",
        "            \"Other_lesion\",\n",
        "            \"Pleural_effusion\",\n",
        "            \"Pleural_thickening\",\n",
        "            \"Pneumothorax\",\n",
        "            \"Pulmonary_fibrosis\"]\n",
        "\n",
        "# tf bilinear interpolation is different from any other's, just make do\n",
        "input_sizes = [512, 640, 768, 896, 1024, 1280, 1280, 1536]\n",
        "input_size = input_sizes[compound_coef] if force_input_size is None else force_input_size\n",
        "ori_imgs, framed_imgs, framed_metas = preprocess(img_path, max_size=input_size)\n",
        "\n",
        "if use_cuda:\n",
        "    x = torch.stack([torch.from_numpy(fi).cuda() for fi in framed_imgs], 0)\n",
        "else:\n",
        "    x = torch.stack([torch.from_numpy(fi) for fi in framed_imgs], 0)\n",
        "\n",
        "x = x.to(torch.float32 if not use_float16 else torch.float16).permute(0, 3, 1, 2)\n",
        "\n",
        "model = EfficientDetBackbone(compound_coef=compound_coef, num_classes=len(obj_list),\n",
        "\n",
        "                             # replace this part with your project's anchor config\n",
        "                             ratios=[(0.7, 1.4), (1.0, 1.0), (1.5, 0.7)],\n",
        "                             scales=[2 ** 0, 2 ** (1.0 / 3.0), 2 ** (2.0 / 3.0)])\n",
        "try:\n",
        "    model.load_state_dict(torch.load('logs/Vin_CXR_512/'+weight_file[-1]))\n",
        "except:\n",
        "    pass\n",
        "model.requires_grad_(False)\n",
        "model.eval()\n",
        "\n",
        "if use_cuda:\n",
        "    model = model.cuda()\n",
        "if use_float16:\n",
        "    model = model.half()\n",
        "\n",
        "with torch.no_grad():\n",
        "    features, regression, classification, anchors = model(x)\n",
        "\n",
        "    regressBoxes = BBoxTransform()\n",
        "    clipBoxes = ClipBoxes()\n",
        "\n",
        "    out = postprocess(x,\n",
        "                      anchors, regression, classification,\n",
        "                      regressBoxes, clipBoxes,\n",
        "                      threshold, iou_threshold)\n",
        "\n",
        "\n",
        "for i in range(len(ori_imgs)):\n",
        "    if len(out[i]['rois']) == 0:\n",
        "        continue\n",
        "    ori_imgs[i] = ori_imgs[i].copy()\n",
        "    plt.figure(figsize=(20,20))\n",
        "    plt.subplot(1,2,1)\n",
        "    plt.imshow(ori_imgs[i])\n",
        "    \n",
        "    for j in range(len(out[i]['rois'])):\n",
        "        (x1, y1, x2, y2) = out[i]['rois'][j].astype(np.int)\n",
        "        cv2.rectangle(ori_imgs[i], (x1, y1), (x2, y2), (255, 255, 0), 2)\n",
        "        obj = obj_list[out[i]['class_ids'][j]]\n",
        "        score = float(out[i]['scores'][j])\n",
        "\n",
        "        cv2.putText(ori_imgs[i], '{}, {:.3f}'.format(obj, score),\n",
        "                    (x1, y1 + 10), cv2.FONT_HERSHEY_SIMPLEX, 0.5,\n",
        "                    (255, 255, 0), 1)\n",
        "        plt.subplot(1,2,2)\n",
        "        plt.imshow(ori_imgs[i])\n",
        "        "
      ],
      "execution_count": null,
      "outputs": []
    },
    {
      "cell_type": "code",
      "metadata": {
        "id": "HvxmEPE5SOkO"
      },
      "source": [
        ""
      ],
      "execution_count": null,
      "outputs": []
    },
    {
      "cell_type": "code",
      "metadata": {
        "id": "TTwK6RnJlg2w"
      },
      "source": [
        "!cp /content/Yet-Another-EfficientDet-Pytorch/logs/Vin_CXR_512/efficientdet-d0_50_22000.pth  /content/gdrive/MyDrive/cs492i_project/logs"
      ],
      "execution_count": null,
      "outputs": []
    },
    {
      "cell_type": "code",
      "metadata": {
        "id": "r6P899wewUi7"
      },
      "source": [
        "from pycocotools.coco import COCO\n",
        "from pycocotools.cocoeval import COCOeval"
      ],
      "execution_count": 17,
      "outputs": []
    },
    {
      "cell_type": "code",
      "source": [
        ""
      ],
      "metadata": {
        "id": "o-MsLnL0auHH"
      },
      "execution_count": 17,
      "outputs": []
    },
    {
      "cell_type": "code",
      "metadata": {
        "colab": {
          "base_uri": "https://localhost:8080/"
        },
        "id": "lOkh22N6svip",
        "outputId": "9c8ce87f-45a4-4406-aff4-f9feebd4c028"
      },
      "source": [
        "params=config\n",
        "SET_NAME = params['val_set']\n",
        "VAL_GT = f'datasets/{params[\"project_name\"]}/annotations/instances_{SET_NAME}.json'\n",
        "VAL_IMGS = f'datasets/{params[\"project_name\"]}/{SET_NAME}/'\n",
        "MAX_IMAGES = 10000\n",
        "coco_gt = COCO(VAL_GT)\n",
        "image_ids = coco_gt.getImgIds()[:MAX_IMAGES]\n",
        "pred_json_path='/content/Yet-Another-EfficientDet-Pytorch/val_bbox_results.json'\n",
        "coco_pred = coco_gt.loadRes(pred_json_path)\n",
        "print('BBox')\n",
        "for i in range(14):\n",
        "    coco_eval = COCOeval(coco_gt, coco_pred, 'bbox')\n",
        "    coco_eval.params.imgIds = image_ids\n",
        "    coco_eval.params.catIds=[i]\n",
        "    coco_eval.evaluate()\n",
        "    coco_eval.accumulate()\n",
        "    coco_eval.summarize()\n"
      ],
      "execution_count": 18,
      "outputs": [
        {
          "output_type": "stream",
          "name": "stdout",
          "text": [
            "loading annotations into memory...\n",
            "Done (t=0.02s)\n",
            "creating index...\n",
            "index created!\n",
            "Loading and preparing results...\n",
            "DONE (t=0.49s)\n",
            "creating index...\n",
            "index created!\n",
            "BBox\n",
            "Running per image evaluation...\n",
            "Evaluate annotation type *bbox*\n",
            "DONE (t=0.28s).\n",
            "Accumulating evaluation results...\n",
            "DONE (t=0.03s).\n",
            " Average Precision  (AP) @[ IoU=0.50:0.95 | area=   all | maxDets=100 ] = 0.000\n",
            " Average Precision  (AP) @[ IoU=0.50      | area=   all | maxDets=100 ] = 0.000\n",
            " Average Precision  (AP) @[ IoU=0.75      | area=   all | maxDets=100 ] = 0.000\n",
            " Average Precision  (AP) @[ IoU=0.50:0.95 | area= small | maxDets=100 ] = -1.000\n",
            " Average Precision  (AP) @[ IoU=0.50:0.95 | area=medium | maxDets=100 ] = 0.000\n",
            " Average Precision  (AP) @[ IoU=0.50:0.95 | area= large | maxDets=100 ] = 0.000\n",
            " Average Recall     (AR) @[ IoU=0.50:0.95 | area=   all | maxDets=  1 ] = 0.000\n",
            " Average Recall     (AR) @[ IoU=0.50:0.95 | area=   all | maxDets= 10 ] = 0.000\n",
            " Average Recall     (AR) @[ IoU=0.50:0.95 | area=   all | maxDets=100 ] = 0.000\n",
            " Average Recall     (AR) @[ IoU=0.50:0.95 | area= small | maxDets=100 ] = -1.000\n",
            " Average Recall     (AR) @[ IoU=0.50:0.95 | area=medium | maxDets=100 ] = 0.000\n",
            " Average Recall     (AR) @[ IoU=0.50:0.95 | area= large | maxDets=100 ] = 0.000\n",
            "Running per image evaluation...\n",
            "Evaluate annotation type *bbox*\n",
            "DONE (t=0.07s).\n",
            "Accumulating evaluation results...\n",
            "DONE (t=0.01s).\n",
            " Average Precision  (AP) @[ IoU=0.50:0.95 | area=   all | maxDets=100 ] = 0.070\n",
            " Average Precision  (AP) @[ IoU=0.50      | area=   all | maxDets=100 ] = 0.239\n",
            " Average Precision  (AP) @[ IoU=0.75      | area=   all | maxDets=100 ] = 0.004\n",
            " Average Precision  (AP) @[ IoU=0.50:0.95 | area= small | maxDets=100 ] = -1.000\n",
            " Average Precision  (AP) @[ IoU=0.50:0.95 | area=medium | maxDets=100 ] = 0.067\n",
            " Average Precision  (AP) @[ IoU=0.50:0.95 | area= large | maxDets=100 ] = 0.086\n",
            " Average Recall     (AR) @[ IoU=0.50:0.95 | area=   all | maxDets=  1 ] = 0.097\n",
            " Average Recall     (AR) @[ IoU=0.50:0.95 | area=   all | maxDets= 10 ] = 0.115\n",
            " Average Recall     (AR) @[ IoU=0.50:0.95 | area=   all | maxDets=100 ] = 0.115\n",
            " Average Recall     (AR) @[ IoU=0.50:0.95 | area= small | maxDets=100 ] = -1.000\n",
            " Average Recall     (AR) @[ IoU=0.50:0.95 | area=medium | maxDets=100 ] = 0.092\n",
            " Average Recall     (AR) @[ IoU=0.50:0.95 | area= large | maxDets=100 ] = 0.153\n",
            "Running per image evaluation...\n",
            "Evaluate annotation type *bbox*\n",
            "DONE (t=0.17s).\n",
            "Accumulating evaluation results...\n",
            "DONE (t=0.04s).\n",
            " Average Precision  (AP) @[ IoU=0.50:0.95 | area=   all | maxDets=100 ] = 0.007\n",
            " Average Precision  (AP) @[ IoU=0.50      | area=   all | maxDets=100 ] = 0.012\n",
            " Average Precision  (AP) @[ IoU=0.75      | area=   all | maxDets=100 ] = 0.010\n",
            " Average Precision  (AP) @[ IoU=0.50:0.95 | area= small | maxDets=100 ] = 0.000\n",
            " Average Precision  (AP) @[ IoU=0.50:0.95 | area=medium | maxDets=100 ] = 0.016\n",
            " Average Precision  (AP) @[ IoU=0.50:0.95 | area= large | maxDets=100 ] = 0.000\n",
            " Average Recall     (AR) @[ IoU=0.50:0.95 | area=   all | maxDets=  1 ] = 0.010\n",
            " Average Recall     (AR) @[ IoU=0.50:0.95 | area=   all | maxDets= 10 ] = 0.027\n",
            " Average Recall     (AR) @[ IoU=0.50:0.95 | area=   all | maxDets=100 ] = 0.027\n",
            " Average Recall     (AR) @[ IoU=0.50:0.95 | area= small | maxDets=100 ] = 0.000\n",
            " Average Recall     (AR) @[ IoU=0.50:0.95 | area=medium | maxDets=100 ] = 0.077\n",
            " Average Recall     (AR) @[ IoU=0.50:0.95 | area= large | maxDets=100 ] = 0.000\n",
            "Running per image evaluation...\n",
            "Evaluate annotation type *bbox*\n",
            "DONE (t=0.47s).\n",
            "Accumulating evaluation results...\n",
            "DONE (t=0.10s).\n",
            " Average Precision  (AP) @[ IoU=0.50:0.95 | area=   all | maxDets=100 ] = 0.573\n",
            " Average Precision  (AP) @[ IoU=0.50      | area=   all | maxDets=100 ] = 0.918\n",
            " Average Precision  (AP) @[ IoU=0.75      | area=   all | maxDets=100 ] = 0.625\n",
            " Average Precision  (AP) @[ IoU=0.50:0.95 | area= small | maxDets=100 ] = -1.000\n",
            " Average Precision  (AP) @[ IoU=0.50:0.95 | area=medium | maxDets=100 ] = 0.489\n",
            " Average Precision  (AP) @[ IoU=0.50:0.95 | area= large | maxDets=100 ] = 0.580\n",
            " Average Recall     (AR) @[ IoU=0.50:0.95 | area=   all | maxDets=  1 ] = 0.691\n",
            " Average Recall     (AR) @[ IoU=0.50:0.95 | area=   all | maxDets= 10 ] = 0.694\n",
            " Average Recall     (AR) @[ IoU=0.50:0.95 | area=   all | maxDets=100 ] = 0.694\n",
            " Average Recall     (AR) @[ IoU=0.50:0.95 | area= small | maxDets=100 ] = -1.000\n",
            " Average Recall     (AR) @[ IoU=0.50:0.95 | area=medium | maxDets=100 ] = 0.512\n",
            " Average Recall     (AR) @[ IoU=0.50:0.95 | area= large | maxDets=100 ] = 0.704\n",
            "Running per image evaluation...\n",
            "Evaluate annotation type *bbox*\n",
            "DONE (t=0.09s).\n",
            "Accumulating evaluation results...\n",
            "DONE (t=0.02s).\n",
            " Average Precision  (AP) @[ IoU=0.50:0.95 | area=   all | maxDets=100 ] = 0.059\n",
            " Average Precision  (AP) @[ IoU=0.50      | area=   all | maxDets=100 ] = 0.198\n",
            " Average Precision  (AP) @[ IoU=0.75      | area=   all | maxDets=100 ] = 0.021\n",
            " Average Precision  (AP) @[ IoU=0.50:0.95 | area= small | maxDets=100 ] = 0.000\n",
            " Average Precision  (AP) @[ IoU=0.50:0.95 | area=medium | maxDets=100 ] = 0.021\n",
            " Average Precision  (AP) @[ IoU=0.50:0.95 | area= large | maxDets=100 ] = 0.102\n",
            " Average Recall     (AR) @[ IoU=0.50:0.95 | area=   all | maxDets=  1 ] = 0.120\n",
            " Average Recall     (AR) @[ IoU=0.50:0.95 | area=   all | maxDets= 10 ] = 0.158\n",
            " Average Recall     (AR) @[ IoU=0.50:0.95 | area=   all | maxDets=100 ] = 0.158\n",
            " Average Recall     (AR) @[ IoU=0.50:0.95 | area= small | maxDets=100 ] = 0.000\n",
            " Average Recall     (AR) @[ IoU=0.50:0.95 | area=medium | maxDets=100 ] = 0.074\n",
            " Average Recall     (AR) @[ IoU=0.50:0.95 | area= large | maxDets=100 ] = 0.242\n",
            "Running per image evaluation...\n",
            "Evaluate annotation type *bbox*\n",
            "DONE (t=0.32s).\n",
            "Accumulating evaluation results...\n",
            "DONE (t=0.08s).\n",
            " Average Precision  (AP) @[ IoU=0.50:0.95 | area=   all | maxDets=100 ] = 0.042\n",
            " Average Precision  (AP) @[ IoU=0.50      | area=   all | maxDets=100 ] = 0.123\n",
            " Average Precision  (AP) @[ IoU=0.75      | area=   all | maxDets=100 ] = 0.008\n",
            " Average Precision  (AP) @[ IoU=0.50:0.95 | area= small | maxDets=100 ] = 0.000\n",
            " Average Precision  (AP) @[ IoU=0.50:0.95 | area=medium | maxDets=100 ] = 0.019\n",
            " Average Precision  (AP) @[ IoU=0.50:0.95 | area= large | maxDets=100 ] = 0.054\n",
            " Average Recall     (AR) @[ IoU=0.50:0.95 | area=   all | maxDets=  1 ] = 0.111\n",
            " Average Recall     (AR) @[ IoU=0.50:0.95 | area=   all | maxDets= 10 ] = 0.269\n",
            " Average Recall     (AR) @[ IoU=0.50:0.95 | area=   all | maxDets=100 ] = 0.270\n",
            " Average Recall     (AR) @[ IoU=0.50:0.95 | area= small | maxDets=100 ] = 0.000\n",
            " Average Recall     (AR) @[ IoU=0.50:0.95 | area=medium | maxDets=100 ] = 0.081\n",
            " Average Recall     (AR) @[ IoU=0.50:0.95 | area= large | maxDets=100 ] = 0.344\n",
            "Running per image evaluation...\n",
            "Evaluate annotation type *bbox*\n",
            "DONE (t=0.19s).\n",
            "Accumulating evaluation results...\n",
            "DONE (t=0.04s).\n",
            " Average Precision  (AP) @[ IoU=0.50:0.95 | area=   all | maxDets=100 ] = 0.052\n",
            " Average Precision  (AP) @[ IoU=0.50      | area=   all | maxDets=100 ] = 0.125\n",
            " Average Precision  (AP) @[ IoU=0.75      | area=   all | maxDets=100 ] = 0.032\n",
            " Average Precision  (AP) @[ IoU=0.50:0.95 | area= small | maxDets=100 ] = 0.000\n",
            " Average Precision  (AP) @[ IoU=0.50:0.95 | area=medium | maxDets=100 ] = 0.008\n",
            " Average Precision  (AP) @[ IoU=0.50:0.95 | area= large | maxDets=100 ] = 0.099\n",
            " Average Recall     (AR) @[ IoU=0.50:0.95 | area=   all | maxDets=  1 ] = 0.078\n",
            " Average Recall     (AR) @[ IoU=0.50:0.95 | area=   all | maxDets= 10 ] = 0.151\n",
            " Average Recall     (AR) @[ IoU=0.50:0.95 | area=   all | maxDets=100 ] = 0.151\n",
            " Average Recall     (AR) @[ IoU=0.50:0.95 | area= small | maxDets=100 ] = 0.000\n",
            " Average Recall     (AR) @[ IoU=0.50:0.95 | area=medium | maxDets=100 ] = 0.080\n",
            " Average Recall     (AR) @[ IoU=0.50:0.95 | area= large | maxDets=100 ] = 0.225\n",
            "Running per image evaluation...\n",
            "Evaluate annotation type *bbox*\n",
            "DONE (t=0.90s).\n",
            "Accumulating evaluation results...\n",
            "DONE (t=0.21s).\n",
            " Average Precision  (AP) @[ IoU=0.50:0.95 | area=   all | maxDets=100 ] = 0.076\n",
            " Average Precision  (AP) @[ IoU=0.50      | area=   all | maxDets=100 ] = 0.221\n",
            " Average Precision  (AP) @[ IoU=0.75      | area=   all | maxDets=100 ] = 0.022\n",
            " Average Precision  (AP) @[ IoU=0.50:0.95 | area= small | maxDets=100 ] = 0.005\n",
            " Average Precision  (AP) @[ IoU=0.50:0.95 | area=medium | maxDets=100 ] = 0.066\n",
            " Average Precision  (AP) @[ IoU=0.50:0.95 | area= large | maxDets=100 ] = 0.138\n",
            " Average Recall     (AR) @[ IoU=0.50:0.95 | area=   all | maxDets=  1 ] = 0.118\n",
            " Average Recall     (AR) @[ IoU=0.50:0.95 | area=   all | maxDets= 10 ] = 0.225\n",
            " Average Recall     (AR) @[ IoU=0.50:0.95 | area=   all | maxDets=100 ] = 0.246\n",
            " Average Recall     (AR) @[ IoU=0.50:0.95 | area= small | maxDets=100 ] = 0.012\n",
            " Average Recall     (AR) @[ IoU=0.50:0.95 | area=medium | maxDets=100 ] = 0.246\n",
            " Average Recall     (AR) @[ IoU=0.50:0.95 | area= large | maxDets=100 ] = 0.358\n",
            "Running per image evaluation...\n",
            "Evaluate annotation type *bbox*\n",
            "DONE (t=0.47s).\n",
            "Accumulating evaluation results...\n",
            "DONE (t=0.08s).\n",
            " Average Precision  (AP) @[ IoU=0.50:0.95 | area=   all | maxDets=100 ] = 0.022\n",
            " Average Precision  (AP) @[ IoU=0.50      | area=   all | maxDets=100 ] = 0.062\n",
            " Average Precision  (AP) @[ IoU=0.75      | area=   all | maxDets=100 ] = 0.010\n",
            " Average Precision  (AP) @[ IoU=0.50:0.95 | area= small | maxDets=100 ] = 0.004\n",
            " Average Precision  (AP) @[ IoU=0.50:0.95 | area=medium | maxDets=100 ] = 0.082\n",
            " Average Precision  (AP) @[ IoU=0.50:0.95 | area= large | maxDets=100 ] = 0.078\n",
            " Average Recall     (AR) @[ IoU=0.50:0.95 | area=   all | maxDets=  1 ] = 0.047\n",
            " Average Recall     (AR) @[ IoU=0.50:0.95 | area=   all | maxDets= 10 ] = 0.069\n",
            " Average Recall     (AR) @[ IoU=0.50:0.95 | area=   all | maxDets=100 ] = 0.069\n",
            " Average Recall     (AR) @[ IoU=0.50:0.95 | area= small | maxDets=100 ] = 0.022\n",
            " Average Recall     (AR) @[ IoU=0.50:0.95 | area=medium | maxDets=100 ] = 0.219\n",
            " Average Recall     (AR) @[ IoU=0.50:0.95 | area= large | maxDets=100 ] = 0.176\n",
            "Running per image evaluation...\n",
            "Evaluate annotation type *bbox*\n",
            "DONE (t=0.56s).\n",
            "Accumulating evaluation results...\n",
            "DONE (t=0.15s).\n",
            " Average Precision  (AP) @[ IoU=0.50:0.95 | area=   all | maxDets=100 ] = 0.005\n",
            " Average Precision  (AP) @[ IoU=0.50      | area=   all | maxDets=100 ] = 0.018\n",
            " Average Precision  (AP) @[ IoU=0.75      | area=   all | maxDets=100 ] = 0.004\n",
            " Average Precision  (AP) @[ IoU=0.50:0.95 | area= small | maxDets=100 ] = 0.005\n",
            " Average Precision  (AP) @[ IoU=0.50:0.95 | area=medium | maxDets=100 ] = 0.004\n",
            " Average Precision  (AP) @[ IoU=0.50:0.95 | area= large | maxDets=100 ] = 0.011\n",
            " Average Recall     (AR) @[ IoU=0.50:0.95 | area=   all | maxDets=  1 ] = 0.024\n",
            " Average Recall     (AR) @[ IoU=0.50:0.95 | area=   all | maxDets= 10 ] = 0.055\n",
            " Average Recall     (AR) @[ IoU=0.50:0.95 | area=   all | maxDets=100 ] = 0.067\n",
            " Average Recall     (AR) @[ IoU=0.50:0.95 | area= small | maxDets=100 ] = 0.004\n",
            " Average Recall     (AR) @[ IoU=0.50:0.95 | area=medium | maxDets=100 ] = 0.086\n",
            " Average Recall     (AR) @[ IoU=0.50:0.95 | area= large | maxDets=100 ] = 0.106\n",
            "Running per image evaluation...\n",
            "Evaluate annotation type *bbox*\n",
            "DONE (t=0.43s).\n",
            "Accumulating evaluation results...\n",
            "DONE (t=0.08s).\n",
            " Average Precision  (AP) @[ IoU=0.50:0.95 | area=   all | maxDets=100 ] = 0.132\n",
            " Average Precision  (AP) @[ IoU=0.50      | area=   all | maxDets=100 ] = 0.338\n",
            " Average Precision  (AP) @[ IoU=0.75      | area=   all | maxDets=100 ] = 0.077\n",
            " Average Precision  (AP) @[ IoU=0.50:0.95 | area= small | maxDets=100 ] = 0.042\n",
            " Average Precision  (AP) @[ IoU=0.50:0.95 | area=medium | maxDets=100 ] = 0.066\n",
            " Average Precision  (AP) @[ IoU=0.50:0.95 | area= large | maxDets=100 ] = 0.364\n",
            " Average Recall     (AR) @[ IoU=0.50:0.95 | area=   all | maxDets=  1 ] = 0.146\n",
            " Average Recall     (AR) @[ IoU=0.50:0.95 | area=   all | maxDets= 10 ] = 0.249\n",
            " Average Recall     (AR) @[ IoU=0.50:0.95 | area=   all | maxDets=100 ] = 0.277\n",
            " Average Recall     (AR) @[ IoU=0.50:0.95 | area= small | maxDets=100 ] = 0.109\n",
            " Average Recall     (AR) @[ IoU=0.50:0.95 | area=medium | maxDets=100 ] = 0.274\n",
            " Average Recall     (AR) @[ IoU=0.50:0.95 | area= large | maxDets=100 ] = 0.485\n",
            "Running per image evaluation...\n",
            "Evaluate annotation type *bbox*\n",
            "DONE (t=1.23s).\n",
            "Accumulating evaluation results...\n",
            "DONE (t=0.22s).\n",
            " Average Precision  (AP) @[ IoU=0.50:0.95 | area=   all | maxDets=100 ] = 0.043\n",
            " Average Precision  (AP) @[ IoU=0.50      | area=   all | maxDets=100 ] = 0.158\n",
            " Average Precision  (AP) @[ IoU=0.75      | area=   all | maxDets=100 ] = 0.007\n",
            " Average Precision  (AP) @[ IoU=0.50:0.95 | area= small | maxDets=100 ] = 0.029\n",
            " Average Precision  (AP) @[ IoU=0.50:0.95 | area=medium | maxDets=100 ] = 0.058\n",
            " Average Precision  (AP) @[ IoU=0.50:0.95 | area= large | maxDets=100 ] = 0.081\n",
            " Average Recall     (AR) @[ IoU=0.50:0.95 | area=   all | maxDets=  1 ] = 0.068\n",
            " Average Recall     (AR) @[ IoU=0.50:0.95 | area=   all | maxDets= 10 ] = 0.197\n",
            " Average Recall     (AR) @[ IoU=0.50:0.95 | area=   all | maxDets=100 ] = 0.233\n",
            " Average Recall     (AR) @[ IoU=0.50:0.95 | area= small | maxDets=100 ] = 0.132\n",
            " Average Recall     (AR) @[ IoU=0.50:0.95 | area=medium | maxDets=100 ] = 0.310\n",
            " Average Recall     (AR) @[ IoU=0.50:0.95 | area= large | maxDets=100 ] = 0.285\n",
            "Running per image evaluation...\n",
            "Evaluate annotation type *bbox*\n",
            "DONE (t=0.27s).\n",
            "Accumulating evaluation results...\n",
            "DONE (t=0.09s).\n",
            " Average Precision  (AP) @[ IoU=0.50:0.95 | area=   all | maxDets=100 ] = 0.014\n",
            " Average Precision  (AP) @[ IoU=0.50      | area=   all | maxDets=100 ] = 0.023\n",
            " Average Precision  (AP) @[ IoU=0.75      | area=   all | maxDets=100 ] = 0.017\n",
            " Average Precision  (AP) @[ IoU=0.50:0.95 | area= small | maxDets=100 ] = 0.000\n",
            " Average Precision  (AP) @[ IoU=0.50:0.95 | area=medium | maxDets=100 ] = 0.019\n",
            " Average Precision  (AP) @[ IoU=0.50:0.95 | area= large | maxDets=100 ] = 0.029\n",
            " Average Recall     (AR) @[ IoU=0.50:0.95 | area=   all | maxDets=  1 ] = 0.089\n",
            " Average Recall     (AR) @[ IoU=0.50:0.95 | area=   all | maxDets= 10 ] = 0.211\n",
            " Average Recall     (AR) @[ IoU=0.50:0.95 | area=   all | maxDets=100 ] = 0.211\n",
            " Average Recall     (AR) @[ IoU=0.50:0.95 | area= small | maxDets=100 ] = 0.000\n",
            " Average Recall     (AR) @[ IoU=0.50:0.95 | area=medium | maxDets=100 ] = 0.156\n",
            " Average Recall     (AR) @[ IoU=0.50:0.95 | area= large | maxDets=100 ] = 0.300\n",
            "Running per image evaluation...\n",
            "Evaluate annotation type *bbox*\n",
            "DONE (t=1.35s).\n",
            "Accumulating evaluation results...\n",
            "DONE (t=0.25s).\n",
            " Average Precision  (AP) @[ IoU=0.50:0.95 | area=   all | maxDets=100 ] = 0.065\n",
            " Average Precision  (AP) @[ IoU=0.50      | area=   all | maxDets=100 ] = 0.210\n",
            " Average Precision  (AP) @[ IoU=0.75      | area=   all | maxDets=100 ] = 0.019\n",
            " Average Precision  (AP) @[ IoU=0.50:0.95 | area= small | maxDets=100 ] = 0.024\n",
            " Average Precision  (AP) @[ IoU=0.50:0.95 | area=medium | maxDets=100 ] = 0.058\n",
            " Average Precision  (AP) @[ IoU=0.50:0.95 | area= large | maxDets=100 ] = 0.201\n",
            " Average Recall     (AR) @[ IoU=0.50:0.95 | area=   all | maxDets=  1 ] = 0.084\n",
            " Average Recall     (AR) @[ IoU=0.50:0.95 | area=   all | maxDets= 10 ] = 0.181\n",
            " Average Recall     (AR) @[ IoU=0.50:0.95 | area=   all | maxDets=100 ] = 0.229\n",
            " Average Recall     (AR) @[ IoU=0.50:0.95 | area= small | maxDets=100 ] = 0.068\n",
            " Average Recall     (AR) @[ IoU=0.50:0.95 | area=medium | maxDets=100 ] = 0.273\n",
            " Average Recall     (AR) @[ IoU=0.50:0.95 | area= large | maxDets=100 ] = 0.390\n"
          ]
        }
      ]
    },
    {
      "cell_type": "code",
      "metadata": {
        "id": "Q31ChRHiswS6"
      },
      "source": [
        ""
      ],
      "execution_count": null,
      "outputs": []
    }
  ]
}