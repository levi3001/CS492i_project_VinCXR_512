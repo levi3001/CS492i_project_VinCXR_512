{
  "nbformat": 4,
  "nbformat_minor": 0,
  "metadata": {
    "colab": {
      "name": "Upsample.ipynb",
      "provenance": [],
      "collapsed_sections": [],
      "include_colab_link": true
    },
    "kernelspec": {
      "name": "python3",
      "display_name": "Python 3"
    },
    "language_info": {
      "name": "python"
    },
    "accelerator": "GPU",
    "widgets": {
      "application/vnd.jupyter.widget-state+json": {
        "277f89e031a74a918289a04c56b17a78": {
          "model_module": "@jupyter-widgets/controls",
          "model_name": "HBoxModel",
          "model_module_version": "1.5.0",
          "state": {
            "_view_name": "HBoxView",
            "_dom_classes": [],
            "_model_name": "HBoxModel",
            "_view_module": "@jupyter-widgets/controls",
            "_model_module_version": "1.5.0",
            "_view_count": null,
            "_view_module_version": "1.5.0",
            "box_style": "",
            "layout": "IPY_MODEL_94a04285696547a2a7c0bfff0eb3d108",
            "_model_module": "@jupyter-widgets/controls",
            "children": [
              "IPY_MODEL_ac93f4d5b6c145e1a2a4d73d3814375c",
              "IPY_MODEL_6577633141614b01a917f645f5675c0c",
              "IPY_MODEL_fa0cb7dbe5314712a42545f4ff49ef07"
            ]
          }
        },
        "94a04285696547a2a7c0bfff0eb3d108": {
          "model_module": "@jupyter-widgets/base",
          "model_name": "LayoutModel",
          "model_module_version": "1.2.0",
          "state": {
            "_view_name": "LayoutView",
            "grid_template_rows": null,
            "right": null,
            "justify_content": null,
            "_view_module": "@jupyter-widgets/base",
            "overflow": null,
            "_model_module_version": "1.2.0",
            "_view_count": null,
            "flex_flow": null,
            "width": null,
            "min_width": null,
            "border": null,
            "align_items": null,
            "bottom": null,
            "_model_module": "@jupyter-widgets/base",
            "top": null,
            "grid_column": null,
            "overflow_y": null,
            "overflow_x": null,
            "grid_auto_flow": null,
            "grid_area": null,
            "grid_template_columns": null,
            "flex": null,
            "_model_name": "LayoutModel",
            "justify_items": null,
            "grid_row": null,
            "max_height": null,
            "align_content": null,
            "visibility": null,
            "align_self": null,
            "height": null,
            "min_height": null,
            "padding": null,
            "grid_auto_rows": null,
            "grid_gap": null,
            "max_width": null,
            "order": null,
            "_view_module_version": "1.2.0",
            "grid_template_areas": null,
            "object_position": null,
            "object_fit": null,
            "grid_auto_columns": null,
            "margin": null,
            "display": null,
            "left": null
          }
        },
        "ac93f4d5b6c145e1a2a4d73d3814375c": {
          "model_module": "@jupyter-widgets/controls",
          "model_name": "HTMLModel",
          "model_module_version": "1.5.0",
          "state": {
            "_view_name": "HTMLView",
            "style": "IPY_MODEL_8d8fb7fcb55d4309961da09cb8bf4054",
            "_dom_classes": [],
            "description": "",
            "_model_name": "HTMLModel",
            "placeholder": "​",
            "_view_module": "@jupyter-widgets/controls",
            "_model_module_version": "1.5.0",
            "value": "100%",
            "_view_count": null,
            "_view_module_version": "1.5.0",
            "description_tooltip": null,
            "_model_module": "@jupyter-widgets/controls",
            "layout": "IPY_MODEL_c7566a43c01d49179e1ef3909928d5a3"
          }
        },
        "6577633141614b01a917f645f5675c0c": {
          "model_module": "@jupyter-widgets/controls",
          "model_name": "FloatProgressModel",
          "model_module_version": "1.5.0",
          "state": {
            "_view_name": "ProgressView",
            "style": "IPY_MODEL_b089f2dd273246dcb1aac301dfb57086",
            "_dom_classes": [],
            "description": "",
            "_model_name": "FloatProgressModel",
            "bar_style": "success",
            "max": 102530333,
            "_view_module": "@jupyter-widgets/controls",
            "_model_module_version": "1.5.0",
            "value": 102530333,
            "_view_count": null,
            "_view_module_version": "1.5.0",
            "orientation": "horizontal",
            "min": 0,
            "description_tooltip": null,
            "_model_module": "@jupyter-widgets/controls",
            "layout": "IPY_MODEL_b1f9331dfd3e4bfda54007e379b68182"
          }
        },
        "fa0cb7dbe5314712a42545f4ff49ef07": {
          "model_module": "@jupyter-widgets/controls",
          "model_name": "HTMLModel",
          "model_module_version": "1.5.0",
          "state": {
            "_view_name": "HTMLView",
            "style": "IPY_MODEL_616543b311dc4b988f02e246dc236422",
            "_dom_classes": [],
            "description": "",
            "_model_name": "HTMLModel",
            "placeholder": "​",
            "_view_module": "@jupyter-widgets/controls",
            "_model_module_version": "1.5.0",
            "value": " 97.8M/97.8M [00:00&lt;00:00, 112MB/s]",
            "_view_count": null,
            "_view_module_version": "1.5.0",
            "description_tooltip": null,
            "_model_module": "@jupyter-widgets/controls",
            "layout": "IPY_MODEL_8e0a9d8ea4d1459387c50282d5d361cd"
          }
        },
        "8d8fb7fcb55d4309961da09cb8bf4054": {
          "model_module": "@jupyter-widgets/controls",
          "model_name": "DescriptionStyleModel",
          "model_module_version": "1.5.0",
          "state": {
            "_view_name": "StyleView",
            "_model_name": "DescriptionStyleModel",
            "description_width": "",
            "_view_module": "@jupyter-widgets/base",
            "_model_module_version": "1.5.0",
            "_view_count": null,
            "_view_module_version": "1.2.0",
            "_model_module": "@jupyter-widgets/controls"
          }
        },
        "c7566a43c01d49179e1ef3909928d5a3": {
          "model_module": "@jupyter-widgets/base",
          "model_name": "LayoutModel",
          "model_module_version": "1.2.0",
          "state": {
            "_view_name": "LayoutView",
            "grid_template_rows": null,
            "right": null,
            "justify_content": null,
            "_view_module": "@jupyter-widgets/base",
            "overflow": null,
            "_model_module_version": "1.2.0",
            "_view_count": null,
            "flex_flow": null,
            "width": null,
            "min_width": null,
            "border": null,
            "align_items": null,
            "bottom": null,
            "_model_module": "@jupyter-widgets/base",
            "top": null,
            "grid_column": null,
            "overflow_y": null,
            "overflow_x": null,
            "grid_auto_flow": null,
            "grid_area": null,
            "grid_template_columns": null,
            "flex": null,
            "_model_name": "LayoutModel",
            "justify_items": null,
            "grid_row": null,
            "max_height": null,
            "align_content": null,
            "visibility": null,
            "align_self": null,
            "height": null,
            "min_height": null,
            "padding": null,
            "grid_auto_rows": null,
            "grid_gap": null,
            "max_width": null,
            "order": null,
            "_view_module_version": "1.2.0",
            "grid_template_areas": null,
            "object_position": null,
            "object_fit": null,
            "grid_auto_columns": null,
            "margin": null,
            "display": null,
            "left": null
          }
        },
        "b089f2dd273246dcb1aac301dfb57086": {
          "model_module": "@jupyter-widgets/controls",
          "model_name": "ProgressStyleModel",
          "model_module_version": "1.5.0",
          "state": {
            "_view_name": "StyleView",
            "_model_name": "ProgressStyleModel",
            "description_width": "",
            "_view_module": "@jupyter-widgets/base",
            "_model_module_version": "1.5.0",
            "_view_count": null,
            "_view_module_version": "1.2.0",
            "bar_color": null,
            "_model_module": "@jupyter-widgets/controls"
          }
        },
        "b1f9331dfd3e4bfda54007e379b68182": {
          "model_module": "@jupyter-widgets/base",
          "model_name": "LayoutModel",
          "model_module_version": "1.2.0",
          "state": {
            "_view_name": "LayoutView",
            "grid_template_rows": null,
            "right": null,
            "justify_content": null,
            "_view_module": "@jupyter-widgets/base",
            "overflow": null,
            "_model_module_version": "1.2.0",
            "_view_count": null,
            "flex_flow": null,
            "width": null,
            "min_width": null,
            "border": null,
            "align_items": null,
            "bottom": null,
            "_model_module": "@jupyter-widgets/base",
            "top": null,
            "grid_column": null,
            "overflow_y": null,
            "overflow_x": null,
            "grid_auto_flow": null,
            "grid_area": null,
            "grid_template_columns": null,
            "flex": null,
            "_model_name": "LayoutModel",
            "justify_items": null,
            "grid_row": null,
            "max_height": null,
            "align_content": null,
            "visibility": null,
            "align_self": null,
            "height": null,
            "min_height": null,
            "padding": null,
            "grid_auto_rows": null,
            "grid_gap": null,
            "max_width": null,
            "order": null,
            "_view_module_version": "1.2.0",
            "grid_template_areas": null,
            "object_position": null,
            "object_fit": null,
            "grid_auto_columns": null,
            "margin": null,
            "display": null,
            "left": null
          }
        },
        "616543b311dc4b988f02e246dc236422": {
          "model_module": "@jupyter-widgets/controls",
          "model_name": "DescriptionStyleModel",
          "model_module_version": "1.5.0",
          "state": {
            "_view_name": "StyleView",
            "_model_name": "DescriptionStyleModel",
            "description_width": "",
            "_view_module": "@jupyter-widgets/base",
            "_model_module_version": "1.5.0",
            "_view_count": null,
            "_view_module_version": "1.2.0",
            "_model_module": "@jupyter-widgets/controls"
          }
        },
        "8e0a9d8ea4d1459387c50282d5d361cd": {
          "model_module": "@jupyter-widgets/base",
          "model_name": "LayoutModel",
          "model_module_version": "1.2.0",
          "state": {
            "_view_name": "LayoutView",
            "grid_template_rows": null,
            "right": null,
            "justify_content": null,
            "_view_module": "@jupyter-widgets/base",
            "overflow": null,
            "_model_module_version": "1.2.0",
            "_view_count": null,
            "flex_flow": null,
            "width": null,
            "min_width": null,
            "border": null,
            "align_items": null,
            "bottom": null,
            "_model_module": "@jupyter-widgets/base",
            "top": null,
            "grid_column": null,
            "overflow_y": null,
            "overflow_x": null,
            "grid_auto_flow": null,
            "grid_area": null,
            "grid_template_columns": null,
            "flex": null,
            "_model_name": "LayoutModel",
            "justify_items": null,
            "grid_row": null,
            "max_height": null,
            "align_content": null,
            "visibility": null,
            "align_self": null,
            "height": null,
            "min_height": null,
            "padding": null,
            "grid_auto_rows": null,
            "grid_gap": null,
            "max_width": null,
            "order": null,
            "_view_module_version": "1.2.0",
            "grid_template_areas": null,
            "object_position": null,
            "object_fit": null,
            "grid_auto_columns": null,
            "margin": null,
            "display": null,
            "left": null
          }
        },
        "9848d3d6361647baae0206ee77d0c8a2": {
          "model_module": "@jupyter-widgets/controls",
          "model_name": "HBoxModel",
          "model_module_version": "1.5.0",
          "state": {
            "_view_name": "HBoxView",
            "_dom_classes": [],
            "_model_name": "HBoxModel",
            "_view_module": "@jupyter-widgets/controls",
            "_model_module_version": "1.5.0",
            "_view_count": null,
            "_view_module_version": "1.5.0",
            "box_style": "",
            "layout": "IPY_MODEL_4ccf4eae480e41ff8f3d127c38a11c6a",
            "_model_module": "@jupyter-widgets/controls",
            "children": [
              "IPY_MODEL_7e832af1ad064d3cb6baf7a43e467a5d",
              "IPY_MODEL_fe2a5270269e4d77974be69980710a67",
              "IPY_MODEL_b52becc1f5e9404f8f17a0705dfcaa32"
            ]
          }
        },
        "4ccf4eae480e41ff8f3d127c38a11c6a": {
          "model_module": "@jupyter-widgets/base",
          "model_name": "LayoutModel",
          "model_module_version": "1.2.0",
          "state": {
            "_view_name": "LayoutView",
            "grid_template_rows": null,
            "right": null,
            "justify_content": null,
            "_view_module": "@jupyter-widgets/base",
            "overflow": null,
            "_model_module_version": "1.2.0",
            "_view_count": null,
            "flex_flow": null,
            "width": null,
            "min_width": null,
            "border": null,
            "align_items": null,
            "bottom": null,
            "_model_module": "@jupyter-widgets/base",
            "top": null,
            "grid_column": null,
            "overflow_y": null,
            "overflow_x": null,
            "grid_auto_flow": null,
            "grid_area": null,
            "grid_template_columns": null,
            "flex": null,
            "_model_name": "LayoutModel",
            "justify_items": null,
            "grid_row": null,
            "max_height": null,
            "align_content": null,
            "visibility": null,
            "align_self": null,
            "height": null,
            "min_height": null,
            "padding": null,
            "grid_auto_rows": null,
            "grid_gap": null,
            "max_width": null,
            "order": null,
            "_view_module_version": "1.2.0",
            "grid_template_areas": null,
            "object_position": null,
            "object_fit": null,
            "grid_auto_columns": null,
            "margin": null,
            "display": null,
            "left": null
          }
        },
        "7e832af1ad064d3cb6baf7a43e467a5d": {
          "model_module": "@jupyter-widgets/controls",
          "model_name": "HTMLModel",
          "model_module_version": "1.5.0",
          "state": {
            "_view_name": "HTMLView",
            "style": "IPY_MODEL_40140df947854bd2aa2556acee9f804c",
            "_dom_classes": [],
            "description": "",
            "_model_name": "HTMLModel",
            "placeholder": "​",
            "_view_module": "@jupyter-widgets/controls",
            "_model_module_version": "1.5.0",
            "value": "100%",
            "_view_count": null,
            "_view_module_version": "1.5.0",
            "description_tooltip": null,
            "_model_module": "@jupyter-widgets/controls",
            "layout": "IPY_MODEL_bbf8e852d7ad4ba584483a5a5ea3c1ca"
          }
        },
        "fe2a5270269e4d77974be69980710a67": {
          "model_module": "@jupyter-widgets/controls",
          "model_name": "FloatProgressModel",
          "model_module_version": "1.5.0",
          "state": {
            "_view_name": "ProgressView",
            "style": "IPY_MODEL_c9975090bd264decacfdaeb331155750",
            "_dom_classes": [],
            "description": "",
            "_model_name": "FloatProgressModel",
            "bar_style": "success",
            "max": 3000,
            "_view_module": "@jupyter-widgets/controls",
            "_model_module_version": "1.5.0",
            "value": 3000,
            "_view_count": null,
            "_view_module_version": "1.5.0",
            "orientation": "horizontal",
            "min": 0,
            "description_tooltip": null,
            "_model_module": "@jupyter-widgets/controls",
            "layout": "IPY_MODEL_0753cfb280cd45b080d4d2a0bde7e178"
          }
        },
        "b52becc1f5e9404f8f17a0705dfcaa32": {
          "model_module": "@jupyter-widgets/controls",
          "model_name": "HTMLModel",
          "model_module_version": "1.5.0",
          "state": {
            "_view_name": "HTMLView",
            "style": "IPY_MODEL_7dbf48cddbc44683ae6617c6fd1583f8",
            "_dom_classes": [],
            "description": "",
            "_model_name": "HTMLModel",
            "placeholder": "​",
            "_view_module": "@jupyter-widgets/controls",
            "_model_module_version": "1.5.0",
            "value": " 3000/3000 [05:19&lt;00:00,  9.48it/s]",
            "_view_count": null,
            "_view_module_version": "1.5.0",
            "description_tooltip": null,
            "_model_module": "@jupyter-widgets/controls",
            "layout": "IPY_MODEL_652c7c1df9174ced923f6220c7f22eda"
          }
        },
        "40140df947854bd2aa2556acee9f804c": {
          "model_module": "@jupyter-widgets/controls",
          "model_name": "DescriptionStyleModel",
          "model_module_version": "1.5.0",
          "state": {
            "_view_name": "StyleView",
            "_model_name": "DescriptionStyleModel",
            "description_width": "",
            "_view_module": "@jupyter-widgets/base",
            "_model_module_version": "1.5.0",
            "_view_count": null,
            "_view_module_version": "1.2.0",
            "_model_module": "@jupyter-widgets/controls"
          }
        },
        "bbf8e852d7ad4ba584483a5a5ea3c1ca": {
          "model_module": "@jupyter-widgets/base",
          "model_name": "LayoutModel",
          "model_module_version": "1.2.0",
          "state": {
            "_view_name": "LayoutView",
            "grid_template_rows": null,
            "right": null,
            "justify_content": null,
            "_view_module": "@jupyter-widgets/base",
            "overflow": null,
            "_model_module_version": "1.2.0",
            "_view_count": null,
            "flex_flow": null,
            "width": null,
            "min_width": null,
            "border": null,
            "align_items": null,
            "bottom": null,
            "_model_module": "@jupyter-widgets/base",
            "top": null,
            "grid_column": null,
            "overflow_y": null,
            "overflow_x": null,
            "grid_auto_flow": null,
            "grid_area": null,
            "grid_template_columns": null,
            "flex": null,
            "_model_name": "LayoutModel",
            "justify_items": null,
            "grid_row": null,
            "max_height": null,
            "align_content": null,
            "visibility": null,
            "align_self": null,
            "height": null,
            "min_height": null,
            "padding": null,
            "grid_auto_rows": null,
            "grid_gap": null,
            "max_width": null,
            "order": null,
            "_view_module_version": "1.2.0",
            "grid_template_areas": null,
            "object_position": null,
            "object_fit": null,
            "grid_auto_columns": null,
            "margin": null,
            "display": null,
            "left": null
          }
        },
        "c9975090bd264decacfdaeb331155750": {
          "model_module": "@jupyter-widgets/controls",
          "model_name": "ProgressStyleModel",
          "model_module_version": "1.5.0",
          "state": {
            "_view_name": "StyleView",
            "_model_name": "ProgressStyleModel",
            "description_width": "",
            "_view_module": "@jupyter-widgets/base",
            "_model_module_version": "1.5.0",
            "_view_count": null,
            "_view_module_version": "1.2.0",
            "bar_color": null,
            "_model_module": "@jupyter-widgets/controls"
          }
        },
        "0753cfb280cd45b080d4d2a0bde7e178": {
          "model_module": "@jupyter-widgets/base",
          "model_name": "LayoutModel",
          "model_module_version": "1.2.0",
          "state": {
            "_view_name": "LayoutView",
            "grid_template_rows": null,
            "right": null,
            "justify_content": null,
            "_view_module": "@jupyter-widgets/base",
            "overflow": null,
            "_model_module_version": "1.2.0",
            "_view_count": null,
            "flex_flow": null,
            "width": null,
            "min_width": null,
            "border": null,
            "align_items": null,
            "bottom": null,
            "_model_module": "@jupyter-widgets/base",
            "top": null,
            "grid_column": null,
            "overflow_y": null,
            "overflow_x": null,
            "grid_auto_flow": null,
            "grid_area": null,
            "grid_template_columns": null,
            "flex": null,
            "_model_name": "LayoutModel",
            "justify_items": null,
            "grid_row": null,
            "max_height": null,
            "align_content": null,
            "visibility": null,
            "align_self": null,
            "height": null,
            "min_height": null,
            "padding": null,
            "grid_auto_rows": null,
            "grid_gap": null,
            "max_width": null,
            "order": null,
            "_view_module_version": "1.2.0",
            "grid_template_areas": null,
            "object_position": null,
            "object_fit": null,
            "grid_auto_columns": null,
            "margin": null,
            "display": null,
            "left": null
          }
        },
        "7dbf48cddbc44683ae6617c6fd1583f8": {
          "model_module": "@jupyter-widgets/controls",
          "model_name": "DescriptionStyleModel",
          "model_module_version": "1.5.0",
          "state": {
            "_view_name": "StyleView",
            "_model_name": "DescriptionStyleModel",
            "description_width": "",
            "_view_module": "@jupyter-widgets/base",
            "_model_module_version": "1.5.0",
            "_view_count": null,
            "_view_module_version": "1.2.0",
            "_model_module": "@jupyter-widgets/controls"
          }
        },
        "652c7c1df9174ced923f6220c7f22eda": {
          "model_module": "@jupyter-widgets/base",
          "model_name": "LayoutModel",
          "model_module_version": "1.2.0",
          "state": {
            "_view_name": "LayoutView",
            "grid_template_rows": null,
            "right": null,
            "justify_content": null,
            "_view_module": "@jupyter-widgets/base",
            "overflow": null,
            "_model_module_version": "1.2.0",
            "_view_count": null,
            "flex_flow": null,
            "width": null,
            "min_width": null,
            "border": null,
            "align_items": null,
            "bottom": null,
            "_model_module": "@jupyter-widgets/base",
            "top": null,
            "grid_column": null,
            "overflow_y": null,
            "overflow_x": null,
            "grid_auto_flow": null,
            "grid_area": null,
            "grid_template_columns": null,
            "flex": null,
            "_model_name": "LayoutModel",
            "justify_items": null,
            "grid_row": null,
            "max_height": null,
            "align_content": null,
            "visibility": null,
            "align_self": null,
            "height": null,
            "min_height": null,
            "padding": null,
            "grid_auto_rows": null,
            "grid_gap": null,
            "max_width": null,
            "order": null,
            "_view_module_version": "1.2.0",
            "grid_template_areas": null,
            "object_position": null,
            "object_fit": null,
            "grid_auto_columns": null,
            "margin": null,
            "display": null,
            "left": null
          }
        }
      }
    }
  },
  "cells": [
    {
      "cell_type": "markdown",
      "metadata": {
        "id": "view-in-github",
        "colab_type": "text"
      },
      "source": [
        "<a href=\"https://colab.research.google.com/github/levi3001/CS492i_project_VinCXR_512/blob/master/Upsample.ipynb\" target=\"_parent\"><img src=\"https://colab.research.google.com/assets/colab-badge.svg\" alt=\"Open In Colab\"/></a>"
      ]
    },
    {
      "cell_type": "code",
      "metadata": {
        "colab": {
          "base_uri": "https://localhost:8080/"
        },
        "id": "DVrPurbhrSf7",
        "outputId": "7cf1a94d-a8d5-471d-d66b-b7f12745682a"
      },
      "source": [
        "from google.colab import drive\n",
        "drive.mount('gdrive')"
      ],
      "execution_count": null,
      "outputs": [
        {
          "output_type": "stream",
          "name": "stdout",
          "text": [
            "Mounted at gdrive\n"
          ]
        }
      ]
    },
    {
      "cell_type": "code",
      "metadata": {
        "id": "S7L_QC4BrYAC"
      },
      "source": [
        "!unzip -uq gdrive/MyDrive/cs492i_project/Vin_CXR_512.zip -d Vin_CXR_512/"
      ],
      "execution_count": null,
      "outputs": []
    },
    {
      "cell_type": "code",
      "metadata": {
        "id": "6sS7N4CMrk-d"
      },
      "source": [
        "!unzip -uq gdrive/MyDrive/cs492i_project/vin_CXR_512.zip -d vin_CXR_512/"
      ],
      "execution_count": null,
      "outputs": []
    },
    {
      "cell_type": "code",
      "metadata": {
        "id": "7p8dXFS2sWhZ"
      },
      "source": [
        "import pandas as pd\n",
        "import numpy as np\n",
        "import torch\n",
        "from pathlib import Path \n",
        "import os\n",
        "import matplotlib.pyplot as plt\n",
        "import json \n",
        "import cv2 \n",
        "import torchvision\n",
        "from torch import nn as nn"
      ],
      "execution_count": null,
      "outputs": []
    },
    {
      "cell_type": "code",
      "metadata": {
        "colab": {
          "base_uri": "https://localhost:8080/",
          "height": 363
        },
        "id": "cFeEnmbotwNS",
        "outputId": "2fff4734-32cb-4a50-df19-8ebf0caad93e"
      },
      "source": [
        "train_meta= pd.read_csv('vin_CXR_512/train_meta.csv')\n",
        "train_meta.head(10)"
      ],
      "execution_count": null,
      "outputs": [
        {
          "output_type": "execute_result",
          "data": {
            "text/html": [
              "<div>\n",
              "<style scoped>\n",
              "    .dataframe tbody tr th:only-of-type {\n",
              "        vertical-align: middle;\n",
              "    }\n",
              "\n",
              "    .dataframe tbody tr th {\n",
              "        vertical-align: top;\n",
              "    }\n",
              "\n",
              "    .dataframe thead th {\n",
              "        text-align: right;\n",
              "    }\n",
              "</style>\n",
              "<table border=\"1\" class=\"dataframe\">\n",
              "  <thead>\n",
              "    <tr style=\"text-align: right;\">\n",
              "      <th></th>\n",
              "      <th>image_id</th>\n",
              "      <th>dim0</th>\n",
              "      <th>dim1</th>\n",
              "    </tr>\n",
              "  </thead>\n",
              "  <tbody>\n",
              "    <tr>\n",
              "      <th>0</th>\n",
              "      <td>4d390e07733ba06e5ff07412f09c0a92</td>\n",
              "      <td>3000</td>\n",
              "      <td>3000</td>\n",
              "    </tr>\n",
              "    <tr>\n",
              "      <th>1</th>\n",
              "      <td>289f69f6462af4933308c275d07060f0</td>\n",
              "      <td>3072</td>\n",
              "      <td>3072</td>\n",
              "    </tr>\n",
              "    <tr>\n",
              "      <th>2</th>\n",
              "      <td>68335ee73e67706aa59b8b55b54b11a4</td>\n",
              "      <td>2836</td>\n",
              "      <td>2336</td>\n",
              "    </tr>\n",
              "    <tr>\n",
              "      <th>3</th>\n",
              "      <td>7ecd6f67f649f26c05805c8359f9e528</td>\n",
              "      <td>2952</td>\n",
              "      <td>2744</td>\n",
              "    </tr>\n",
              "    <tr>\n",
              "      <th>4</th>\n",
              "      <td>2229148faa205e881cf0d932755c9e40</td>\n",
              "      <td>2880</td>\n",
              "      <td>2304</td>\n",
              "    </tr>\n",
              "    <tr>\n",
              "      <th>5</th>\n",
              "      <td>8c87779485ae5e21e25cb57e9510e149</td>\n",
              "      <td>3170</td>\n",
              "      <td>2642</td>\n",
              "    </tr>\n",
              "    <tr>\n",
              "      <th>6</th>\n",
              "      <td>76b23891649862f2b3b95f9bebf0a70c</td>\n",
              "      <td>2819</td>\n",
              "      <td>2545</td>\n",
              "    </tr>\n",
              "    <tr>\n",
              "      <th>7</th>\n",
              "      <td>ba1795ee5daae1ed415756c3f4f21b48</td>\n",
              "      <td>3408</td>\n",
              "      <td>3320</td>\n",
              "    </tr>\n",
              "    <tr>\n",
              "      <th>8</th>\n",
              "      <td>aa6475267e83947ee5078281a7ff3df3</td>\n",
              "      <td>3408</td>\n",
              "      <td>2597</td>\n",
              "    </tr>\n",
              "    <tr>\n",
              "      <th>9</th>\n",
              "      <td>051c2436c0acdb5e09d085c7e4a764f3</td>\n",
              "      <td>2728</td>\n",
              "      <td>2596</td>\n",
              "    </tr>\n",
              "  </tbody>\n",
              "</table>\n",
              "</div>"
            ],
            "text/plain": [
              "                           image_id  dim0  dim1\n",
              "0  4d390e07733ba06e5ff07412f09c0a92  3000  3000\n",
              "1  289f69f6462af4933308c275d07060f0  3072  3072\n",
              "2  68335ee73e67706aa59b8b55b54b11a4  2836  2336\n",
              "3  7ecd6f67f649f26c05805c8359f9e528  2952  2744\n",
              "4  2229148faa205e881cf0d932755c9e40  2880  2304\n",
              "5  8c87779485ae5e21e25cb57e9510e149  3170  2642\n",
              "6  76b23891649862f2b3b95f9bebf0a70c  2819  2545\n",
              "7  ba1795ee5daae1ed415756c3f4f21b48  3408  3320\n",
              "8  aa6475267e83947ee5078281a7ff3df3  3408  2597\n",
              "9  051c2436c0acdb5e09d085c7e4a764f3  2728  2596"
            ]
          },
          "metadata": {},
          "execution_count": 5
        }
      ]
    },
    {
      "cell_type": "code",
      "metadata": {
        "id": "fY3xFGl4t7_O",
        "colab": {
          "base_uri": "https://localhost:8080/",
          "height": 35
        },
        "outputId": "7a634d8b-bcf4-42ca-a0ff-0c2e413cdce6"
      },
      "source": [
        "list_test=os.listdir('vin_CXR_512/test')\n",
        "list_test[0][:-4]"
      ],
      "execution_count": null,
      "outputs": [
        {
          "output_type": "execute_result",
          "data": {
            "application/vnd.google.colaboratory.intrinsic+json": {
              "type": "string"
            },
            "text/plain": [
              "'24263689acdde18b84fc1f464c908ccf'"
            ]
          },
          "metadata": {},
          "execution_count": 6
        }
      ]
    },
    {
      "cell_type": "code",
      "metadata": {
        "id": "55WHKhf5HLQC"
      },
      "source": [
        "!cp gdrive/MyDrive/cs492i_project/test_meta.csv vin_CXR_512/"
      ],
      "execution_count": null,
      "outputs": []
    },
    {
      "cell_type": "code",
      "metadata": {
        "id": "i5WrYS9auIli",
        "colab": {
          "base_uri": "https://localhost:8080/",
          "height": 363
        },
        "outputId": "56653e54-bac0-4f12-c73b-03b3ef6c4792"
      },
      "source": [
        "test_meta= pd.read_csv('vin_CXR_512/test_meta.csv')\n",
        "test_meta.head(10)"
      ],
      "execution_count": null,
      "outputs": [
        {
          "output_type": "execute_result",
          "data": {
            "text/html": [
              "<div>\n",
              "<style scoped>\n",
              "    .dataframe tbody tr th:only-of-type {\n",
              "        vertical-align: middle;\n",
              "    }\n",
              "\n",
              "    .dataframe tbody tr th {\n",
              "        vertical-align: top;\n",
              "    }\n",
              "\n",
              "    .dataframe thead th {\n",
              "        text-align: right;\n",
              "    }\n",
              "</style>\n",
              "<table border=\"1\" class=\"dataframe\">\n",
              "  <thead>\n",
              "    <tr style=\"text-align: right;\">\n",
              "      <th></th>\n",
              "      <th>image_id</th>\n",
              "      <th>dim0</th>\n",
              "      <th>dim1</th>\n",
              "    </tr>\n",
              "  </thead>\n",
              "  <tbody>\n",
              "    <tr>\n",
              "      <th>0</th>\n",
              "      <td>002a34c58c5b758217ed1f584ccbcfe9</td>\n",
              "      <td>2584</td>\n",
              "      <td>2345</td>\n",
              "    </tr>\n",
              "    <tr>\n",
              "      <th>1</th>\n",
              "      <td>004f33259ee4aef671c2b95d54e4be68</td>\n",
              "      <td>3028</td>\n",
              "      <td>2517</td>\n",
              "    </tr>\n",
              "    <tr>\n",
              "      <th>2</th>\n",
              "      <td>008bdde2af2462e86fd373a445d0f4cd</td>\n",
              "      <td>2880</td>\n",
              "      <td>2304</td>\n",
              "    </tr>\n",
              "    <tr>\n",
              "      <th>3</th>\n",
              "      <td>009bc039326338823ca3aa84381f17f1</td>\n",
              "      <td>2430</td>\n",
              "      <td>1994</td>\n",
              "    </tr>\n",
              "    <tr>\n",
              "      <th>4</th>\n",
              "      <td>00a2145de1886cb9eb88869c85d74080</td>\n",
              "      <td>2408</td>\n",
              "      <td>2136</td>\n",
              "    </tr>\n",
              "    <tr>\n",
              "      <th>5</th>\n",
              "      <td>00b7e6bfa4dc1fe9ddd0ce74743e38c2</td>\n",
              "      <td>3000</td>\n",
              "      <td>3000</td>\n",
              "    </tr>\n",
              "    <tr>\n",
              "      <th>6</th>\n",
              "      <td>011295e0bcdc7636569ab73bfdcc4450</td>\n",
              "      <td>2430</td>\n",
              "      <td>1994</td>\n",
              "    </tr>\n",
              "    <tr>\n",
              "      <th>7</th>\n",
              "      <td>013c169f9dad6f1f6485da961b9f7bf2</td>\n",
              "      <td>2836</td>\n",
              "      <td>2336</td>\n",
              "    </tr>\n",
              "    <tr>\n",
              "      <th>8</th>\n",
              "      <td>01431a2618c0ace741e4e270a37e20b9</td>\n",
              "      <td>2880</td>\n",
              "      <td>2304</td>\n",
              "    </tr>\n",
              "    <tr>\n",
              "      <th>9</th>\n",
              "      <td>0168eb925aa6f28a78b16134792f5d0e</td>\n",
              "      <td>2836</td>\n",
              "      <td>2336</td>\n",
              "    </tr>\n",
              "  </tbody>\n",
              "</table>\n",
              "</div>"
            ],
            "text/plain": [
              "                           image_id  dim0  dim1\n",
              "0  002a34c58c5b758217ed1f584ccbcfe9  2584  2345\n",
              "1  004f33259ee4aef671c2b95d54e4be68  3028  2517\n",
              "2  008bdde2af2462e86fd373a445d0f4cd  2880  2304\n",
              "3  009bc039326338823ca3aa84381f17f1  2430  1994\n",
              "4  00a2145de1886cb9eb88869c85d74080  2408  2136\n",
              "5  00b7e6bfa4dc1fe9ddd0ce74743e38c2  3000  3000\n",
              "6  011295e0bcdc7636569ab73bfdcc4450  2430  1994\n",
              "7  013c169f9dad6f1f6485da961b9f7bf2  2836  2336\n",
              "8  01431a2618c0ace741e4e270a37e20b9  2880  2304\n",
              "9  0168eb925aa6f28a78b16134792f5d0e  2836  2336"
            ]
          },
          "metadata": {},
          "execution_count": 8
        }
      ]
    },
    {
      "cell_type": "code",
      "metadata": {
        "id": "YyvQ2Ayfy58d",
        "colab": {
          "base_uri": "https://localhost:8080/",
          "height": 81
        },
        "outputId": "c59a2c55-4c8e-4a39-bddc-857b740e2f08"
      },
      "source": [
        "test_meta[test_meta.image_id==list_test[0][:-4]]"
      ],
      "execution_count": null,
      "outputs": [
        {
          "output_type": "execute_result",
          "data": {
            "text/html": [
              "<div>\n",
              "<style scoped>\n",
              "    .dataframe tbody tr th:only-of-type {\n",
              "        vertical-align: middle;\n",
              "    }\n",
              "\n",
              "    .dataframe tbody tr th {\n",
              "        vertical-align: top;\n",
              "    }\n",
              "\n",
              "    .dataframe thead th {\n",
              "        text-align: right;\n",
              "    }\n",
              "</style>\n",
              "<table border=\"1\" class=\"dataframe\">\n",
              "  <thead>\n",
              "    <tr style=\"text-align: right;\">\n",
              "      <th></th>\n",
              "      <th>image_id</th>\n",
              "      <th>dim0</th>\n",
              "      <th>dim1</th>\n",
              "    </tr>\n",
              "  </thead>\n",
              "  <tbody>\n",
              "    <tr>\n",
              "      <th>385</th>\n",
              "      <td>24263689acdde18b84fc1f464c908ccf</td>\n",
              "      <td>2430</td>\n",
              "      <td>1994</td>\n",
              "    </tr>\n",
              "  </tbody>\n",
              "</table>\n",
              "</div>"
            ],
            "text/plain": [
              "                             image_id  dim0  dim1\n",
              "385  24263689acdde18b84fc1f464c908ccf  2430  1994"
            ]
          },
          "metadata": {},
          "execution_count": 9
        }
      ]
    },
    {
      "cell_type": "code",
      "metadata": {
        "id": "KRGUywGlvbnP"
      },
      "source": [
        ""
      ],
      "execution_count": null,
      "outputs": []
    },
    {
      "cell_type": "code",
      "metadata": {
        "id": "Z1RHPv-z0tnc"
      },
      "source": [
        "def pre_process(img):\n",
        "    img=np.array([img,img,img])\n",
        "    mean=torch.tensor([0.485, 0.456, 0.406])\n",
        "    std=torch.tensor([0.229, 0.224, 0.225])\n",
        "    img=torch.from_numpy(img)\n",
        "    img=img.permute(1,2,0)\n",
        "    img=(img-mean)/std\n",
        "    img=img.permute(2,0,1)\n",
        "    img=img.unsqueeze(0)\n",
        "    return img"
      ],
      "execution_count": null,
      "outputs": []
    },
    {
      "cell_type": "code",
      "metadata": {
        "id": "6LVKuQmK0trn",
        "colab": {
          "base_uri": "https://localhost:8080/"
        },
        "outputId": "0b04f3a5-27f7-4867-cc4a-8bbb2f75913c"
      },
      "source": [
        "!git clone https://github.com/levi3001/Yet-Another-EfficientDet-Pytorch.git"
      ],
      "execution_count": null,
      "outputs": [
        {
          "output_type": "stream",
          "name": "stdout",
          "text": [
            "Cloning into 'Yet-Another-EfficientDet-Pytorch'...\n",
            "remote: Enumerating objects: 835, done.\u001b[K\n",
            "remote: Counting objects: 100% (70/70), done.\u001b[K\n",
            "remote: Compressing objects: 100% (48/48), done.\u001b[K\n",
            "remote: Total 835 (delta 40), reused 47 (delta 22), pack-reused 765\u001b[K\n",
            "Receiving objects: 100% (835/835), 121.22 MiB | 13.65 MiB/s, done.\n",
            "Resolving deltas: 100% (477/477), done.\n"
          ]
        }
      ]
    },
    {
      "cell_type": "code",
      "metadata": {
        "id": "Tq-2TYZtAVHm",
        "colab": {
          "base_uri": "https://localhost:8080/"
        },
        "outputId": "a81c088e-b299-4ef5-ec05-1502814534f1"
      },
      "source": [
        "cd Yet-Another-EfficientDet-Pytorch/"
      ],
      "execution_count": null,
      "outputs": [
        {
          "output_type": "stream",
          "name": "stdout",
          "text": [
            "/content/Yet-Another-EfficientDet-Pytorch\n"
          ]
        }
      ]
    },
    {
      "cell_type": "code",
      "metadata": {
        "id": "MwZCTHbT0tvJ",
        "colab": {
          "base_uri": "https://localhost:8080/"
        },
        "outputId": "a6aba61b-59bc-442c-e3aa-5007a8942a0f"
      },
      "source": [
        "from backbone import EfficientDetBackbone\n",
        "model = EfficientDetBackbone(num_classes=14,compound_coef_backbone=3, compound_coef=0).cuda()\n",
        "model.load_state_dict(torch.load(\"/content/gdrive/MyDrive/cs492i_project/logs/efficientdet-d0_70_31000.pth\"))"
      ],
      "execution_count": null,
      "outputs": [
        {
          "output_type": "execute_result",
          "data": {
            "text/plain": [
              "<All keys matched successfully>"
            ]
          },
          "metadata": {},
          "execution_count": 17
        }
      ]
    },
    {
      "cell_type": "code",
      "metadata": {
        "colab": {
          "base_uri": "https://localhost:8080/"
        },
        "id": "jdvSrCTZHTMy",
        "outputId": "0aa6aaab-0f4c-46ab-d34e-e413579a9f54"
      },
      "source": [
        "!pip install webcolors\n",
        "#!pip install efficientnet_pytorch "
      ],
      "execution_count": null,
      "outputs": [
        {
          "output_type": "stream",
          "name": "stdout",
          "text": [
            "Collecting webcolors\n",
            "  Downloading webcolors-1.11.1-py3-none-any.whl (9.9 kB)\n",
            "Installing collected packages: webcolors\n",
            "Successfully installed webcolors-1.11.1\n"
          ]
        }
      ]
    },
    {
      "cell_type": "code",
      "metadata": {
        "id": "rIkBtb6jAOrB"
      },
      "source": [
        "from efficientnet_pytorch import EfficientNet\n",
        "cls_model = EfficientNet.from_name('efficientnet-b0', num_classes=14)\n",
        "cls_model.load_state_dict(torch.load('efficientnet_pretrain'))\n",
        "cls_model=cls_model.cuda()"
      ],
      "execution_count": null,
      "outputs": []
    },
    {
      "cell_type": "code",
      "metadata": {
        "id": "-h1iy8KU41Ys",
        "colab": {
          "base_uri": "https://localhost:8080/",
          "height": 66,
          "referenced_widgets": [
            "277f89e031a74a918289a04c56b17a78",
            "94a04285696547a2a7c0bfff0eb3d108",
            "ac93f4d5b6c145e1a2a4d73d3814375c",
            "6577633141614b01a917f645f5675c0c",
            "fa0cb7dbe5314712a42545f4ff49ef07",
            "8d8fb7fcb55d4309961da09cb8bf4054",
            "c7566a43c01d49179e1ef3909928d5a3",
            "b089f2dd273246dcb1aac301dfb57086",
            "b1f9331dfd3e4bfda54007e379b68182",
            "616543b311dc4b988f02e246dc236422",
            "8e0a9d8ea4d1459387c50282d5d361cd"
          ]
        },
        "outputId": "60376def-172f-4cdf-b429-9b7b74d0adda"
      },
      "source": [
        "cls_model = torchvision.models.resnet50(pretrained=True)\n",
        "cls_model.fc = nn.Linear(2048,14)\n",
        "cls_model.load_state_dict(torch.load('resnet50_best.pth'))\n",
        "cls_model=cls_model.cuda()"
      ],
      "execution_count": null,
      "outputs": [
        {
          "output_type": "stream",
          "name": "stderr",
          "text": [
            "Downloading: \"https://download.pytorch.org/models/resnet50-0676ba61.pth\" to /root/.cache/torch/hub/checkpoints/resnet50-0676ba61.pth\n"
          ]
        },
        {
          "output_type": "display_data",
          "data": {
            "application/vnd.jupyter.widget-view+json": {
              "model_id": "277f89e031a74a918289a04c56b17a78",
              "version_minor": 0,
              "version_major": 2
            },
            "text/plain": [
              "  0%|          | 0.00/97.8M [00:00<?, ?B/s]"
            ]
          },
          "metadata": {}
        }
      ]
    },
    {
      "cell_type": "code",
      "metadata": {
        "id": "NCUxdKfXyP8E"
      },
      "source": [
        "def format_pred(labels, boxes, scores,cls_img):\n",
        "    pred_strings = []\n",
        "    for label, score, bbox in zip(labels, scores, boxes):\n",
        "        xmin, ymin, xmax, ymax = bbox.astype(np.int64)\n",
        "        if cls_img[label]>0.5:\n",
        "            pred_strings.append(f\"{label} {score} {xmin} {ymin} {xmax} {ymax}\")\n",
        "    if len(pred_strings)>0:\n",
        "        return \" \".join(pred_strings)\n",
        "    return '14 1.0 0 0 1 1'"
      ],
      "execution_count": null,
      "outputs": []
    },
    {
      "cell_type": "code",
      "metadata": {
        "colab": {
          "base_uri": "https://localhost:8080/",
          "height": 49,
          "referenced_widgets": [
            "9848d3d6361647baae0206ee77d0c8a2",
            "4ccf4eae480e41ff8f3d127c38a11c6a",
            "7e832af1ad064d3cb6baf7a43e467a5d",
            "fe2a5270269e4d77974be69980710a67",
            "b52becc1f5e9404f8f17a0705dfcaa32",
            "40140df947854bd2aa2556acee9f804c",
            "bbf8e852d7ad4ba584483a5a5ea3c1ca",
            "c9975090bd264decacfdaeb331155750",
            "0753cfb280cd45b080d4d2a0bde7e178",
            "7dbf48cddbc44683ae6617c6fd1583f8",
            "652c7c1df9174ced923f6220c7f22eda"
          ]
        },
        "id": "mZk3M5z70tyi",
        "outputId": "2702e3a4-3dcf-41f5-cd84-e5c9495013d1"
      },
      "source": [
        "from utils.utils import preprocess, invert_affine, postprocess, boolean_string\n",
        "from efficientdet.utils import BBoxTransform, ClipBoxes\n",
        "from tqdm.notebook import tqdm\n",
        "ids = []\n",
        "prediction_strings = []\n",
        "regressBoxes = BBoxTransform()\n",
        "clipBoxes = ClipBoxes()\n",
        "threshold=0.05\n",
        "nms_threshold=0.2\n",
        "model.eval()\n",
        "with torch.no_grad():\n",
        "    for test_img_name in tqdm(list_test):\n",
        "        id= test_img_name[:-4]\n",
        "        img=plt.imread('/content/vin_CXR_512/test/'+test_img_name)\n",
        "        h = test_meta[test_meta.image_id==test_img_name[:-4]].dim0\n",
        "        w = test_meta[test_meta.image_id==test_img_name[:-4]].dim1\n",
        "        x=pre_process(img)\n",
        "        x=x.cuda()\n",
        "\n",
        "        features, regression, classification, anchors = model(x)\n",
        "        cls_img= torch.sigmoid(cls_model(x)[0])\n",
        "        preds = postprocess(x,anchors, regression, classification,\n",
        "                                    regressBoxes, clipBoxes,\n",
        "                                    threshold, nms_threshold)\n",
        "        pred_boxes=preds[0]['rois']\n",
        "        num_preds= len(preds[0]['class_ids'])\n",
        "        if num_preds==0:\n",
        "            pred_str='14 1.0 0 0 1 1'\n",
        "        else:\n",
        "            h_ratio = h / 512\n",
        "            w_ratio = w / 512\n",
        "            pred_boxes[:, [0, 2]] *= w_ratio\n",
        "            pred_boxes[:, [1, 3]] *= h_ratio\n",
        "            pred_class_ids= preds[0]['class_ids']\n",
        "            pred_scores=preds[0]['scores']\n",
        "            pred_str=format_pred(\n",
        "                    pred_class_ids, pred_boxes, pred_scores,cls_img)\n",
        "        prediction_strings.append(pred_str)\n",
        "        ids.append(id)\n"
      ],
      "execution_count": null,
      "outputs": [
        {
          "output_type": "display_data",
          "data": {
            "application/vnd.jupyter.widget-view+json": {
              "model_id": "9848d3d6361647baae0206ee77d0c8a2",
              "version_minor": 0,
              "version_major": 2
            },
            "text/plain": [
              "  0%|          | 0/3000 [00:00<?, ?it/s]"
            ]
          },
          "metadata": {}
        }
      ]
    },
    {
      "cell_type": "code",
      "metadata": {
        "id": "nyp0rQlXyOvE"
      },
      "source": [
        ""
      ],
      "execution_count": null,
      "outputs": []
    },
    {
      "cell_type": "code",
      "metadata": {
        "id": "RlIbS6k90t17"
      },
      "source": [
        ""
      ],
      "execution_count": null,
      "outputs": []
    },
    {
      "cell_type": "code",
      "metadata": {
        "id": "XbG4vCSl0t47",
        "colab": {
          "base_uri": "https://localhost:8080/",
          "height": 423
        },
        "outputId": "764691e7-9900-46cb-954a-d7a89ed048ca"
      },
      "source": [
        "submission_det = pd.DataFrame({'image_id':ids, 'PredictionString': prediction_strings}, columns=['image_id', 'PredictionString'])\n",
        "submission_det.to_csv(\"/content/submission_det.csv\", index=False)\n",
        "submission_det"
      ],
      "execution_count": null,
      "outputs": [
        {
          "output_type": "execute_result",
          "data": {
            "text/html": [
              "<div>\n",
              "<style scoped>\n",
              "    .dataframe tbody tr th:only-of-type {\n",
              "        vertical-align: middle;\n",
              "    }\n",
              "\n",
              "    .dataframe tbody tr th {\n",
              "        vertical-align: top;\n",
              "    }\n",
              "\n",
              "    .dataframe thead th {\n",
              "        text-align: right;\n",
              "    }\n",
              "</style>\n",
              "<table border=\"1\" class=\"dataframe\">\n",
              "  <thead>\n",
              "    <tr style=\"text-align: right;\">\n",
              "      <th></th>\n",
              "      <th>image_id</th>\n",
              "      <th>PredictionString</th>\n",
              "    </tr>\n",
              "  </thead>\n",
              "  <tbody>\n",
              "    <tr>\n",
              "      <th>0</th>\n",
              "      <td>24263689acdde18b84fc1f464c908ccf</td>\n",
              "      <td>14 1.0 0 0 1 1</td>\n",
              "    </tr>\n",
              "    <tr>\n",
              "      <th>1</th>\n",
              "      <td>2e7031642f0d951eda8e991c77c611c2</td>\n",
              "      <td>14 1.0 0 0 1 1</td>\n",
              "    </tr>\n",
              "    <tr>\n",
              "      <th>2</th>\n",
              "      <td>608614185411b42c65111af9fc737f35</td>\n",
              "      <td>14 1.0 0 0 1 1</td>\n",
              "    </tr>\n",
              "    <tr>\n",
              "      <th>3</th>\n",
              "      <td>ca5305844c45ccfa56bf83c4bcf8fa5a</td>\n",
              "      <td>14 1.0 0 0 1 1</td>\n",
              "    </tr>\n",
              "    <tr>\n",
              "      <th>4</th>\n",
              "      <td>76e2a34a8c79a83155d9e8aa66e72fed</td>\n",
              "      <td>14 1.0 0 0 1 1</td>\n",
              "    </tr>\n",
              "    <tr>\n",
              "      <th>...</th>\n",
              "      <td>...</td>\n",
              "      <td>...</td>\n",
              "    </tr>\n",
              "    <tr>\n",
              "      <th>2995</th>\n",
              "      <td>c97e54a78bab9c05ce2e04fe6c284bcd</td>\n",
              "      <td>14 1.0 0 0 1 1</td>\n",
              "    </tr>\n",
              "    <tr>\n",
              "      <th>2996</th>\n",
              "      <td>cc53f79260c8d490cbfbc3cd78fe8516</td>\n",
              "      <td>14 1.0 0 0 1 1</td>\n",
              "    </tr>\n",
              "    <tr>\n",
              "      <th>2997</th>\n",
              "      <td>9a9c1899b72972a4c1a6a540aa2941cf</td>\n",
              "      <td>14 1.0 0 0 1 1</td>\n",
              "    </tr>\n",
              "    <tr>\n",
              "      <th>2998</th>\n",
              "      <td>aafba37e808192258f4a1c806113d678</td>\n",
              "      <td>14 1.0 0 0 1 1</td>\n",
              "    </tr>\n",
              "    <tr>\n",
              "      <th>2999</th>\n",
              "      <td>9ffba960315efc66943dc8e69906f999</td>\n",
              "      <td>14 1.0 0 0 1 1</td>\n",
              "    </tr>\n",
              "  </tbody>\n",
              "</table>\n",
              "<p>3000 rows × 2 columns</p>\n",
              "</div>"
            ],
            "text/plain": [
              "                              image_id PredictionString\n",
              "0     24263689acdde18b84fc1f464c908ccf   14 1.0 0 0 1 1\n",
              "1     2e7031642f0d951eda8e991c77c611c2   14 1.0 0 0 1 1\n",
              "2     608614185411b42c65111af9fc737f35   14 1.0 0 0 1 1\n",
              "3     ca5305844c45ccfa56bf83c4bcf8fa5a   14 1.0 0 0 1 1\n",
              "4     76e2a34a8c79a83155d9e8aa66e72fed   14 1.0 0 0 1 1\n",
              "...                                ...              ...\n",
              "2995  c97e54a78bab9c05ce2e04fe6c284bcd   14 1.0 0 0 1 1\n",
              "2996  cc53f79260c8d490cbfbc3cd78fe8516   14 1.0 0 0 1 1\n",
              "2997  9a9c1899b72972a4c1a6a540aa2941cf   14 1.0 0 0 1 1\n",
              "2998  aafba37e808192258f4a1c806113d678   14 1.0 0 0 1 1\n",
              "2999  9ffba960315efc66943dc8e69906f999   14 1.0 0 0 1 1\n",
              "\n",
              "[3000 rows x 2 columns]"
            ]
          },
          "metadata": {},
          "execution_count": 22
        }
      ]
    },
    {
      "cell_type": "code",
      "metadata": {
        "id": "4Sf1ozo60t73",
        "colab": {
          "base_uri": "https://localhost:8080/",
          "height": 35
        },
        "outputId": "c2b283f5-e706-4f4b-92de-a8a22ff41e2b"
      },
      "source": [
        "submission_det['PredictionString'][0]"
      ],
      "execution_count": null,
      "outputs": [
        {
          "output_type": "execute_result",
          "data": {
            "application/vnd.google.colaboratory.intrinsic+json": {
              "type": "string"
            },
            "text/plain": [
              "'14 1.0 0 0 1 1'"
            ]
          },
          "metadata": {},
          "execution_count": 23
        }
      ]
    },
    {
      "cell_type": "code",
      "metadata": {
        "id": "5bTdq6uvwfxU",
        "colab": {
          "base_uri": "https://localhost:8080/",
          "height": 35
        },
        "outputId": "8e202635-a76b-4fa7-fdbc-1a9a3d87f5a6"
      },
      "source": [
        "submission_det['PredictionString'][3]"
      ],
      "execution_count": null,
      "outputs": [
        {
          "output_type": "execute_result",
          "data": {
            "application/vnd.google.colaboratory.intrinsic+json": {
              "type": "string"
            },
            "text/plain": [
              "'14 1.0 0 0 1 1'"
            ]
          },
          "metadata": {},
          "execution_count": 24
        }
      ]
    },
    {
      "cell_type": "code",
      "metadata": {
        "id": "kQyKJJzvHJOq"
      },
      "source": [
        "!cp /content/submission_det.csv /content/gdrive/MyDrive/submission_det5.csv"
      ],
      "execution_count": null,
      "outputs": []
    },
    {
      "cell_type": "code",
      "metadata": {
        "id": "jyAAjHstamNC"
      },
      "source": [
        ""
      ],
      "execution_count": null,
      "outputs": []
    }
  ]
}